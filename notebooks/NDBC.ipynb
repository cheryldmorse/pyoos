{
 "cells": [
  {
   "cell_type": "markdown",
   "metadata": {},
   "source": [
    "https://github.com/emiliom/stuff/blob/master/pyoos_ndbc_demo.ipynb"
   ]
  },
  {
   "cell_type": "markdown",
   "metadata": {},
   "source": [
    "# pyoos NDBC demo\n",
    "Demo the capabilities of the pyoos [NdbcSos collector](https://github.com/ioos/pyoos/blob/master/pyoos/collectors/ndbc/ndbc_sos.py).   \n",
    "Starting point was a notebook from [Filipe](https://github.com/ocefpaf), for the [OOI Endurance Array](http://oceanobservatories.org/array/coastal-endurance/), which has a spatial extent encompassed within the NANOOS domain.   \n",
    "12/23/2015. [Emilio Mayorga](https://github.com/emiliom/), [NANOOS](http://nanoos.org)"
   ]
  },
  {
   "cell_type": "code",
   "execution_count": 1,
   "metadata": {
    "collapsed": false
   },
   "outputs": [],
   "source": [
    "import pandas as pd\n",
    "\n",
    "from pyoos.collectors.ndbc.ndbc_sos import NdbcSos\n",
    "import owslib.swe.sensor.sml as owslibsml\n",
    "\n",
    "fmt = '{:*^64}'.format"
   ]
  },
  {
   "cell_type": "markdown",
   "metadata": {},
   "source": [
    "## Set pyoos filter criteria"
   ]
  },
  {
   "cell_type": "code",
   "execution_count": 2,
   "metadata": {
    "collapsed": true
   },
   "outputs": [],
   "source": [
    "# OOI Endurance Array bounding box\n",
    "bbox = [-127, 43, -123.75, 48]"
   ]
  },
  {
   "cell_type": "code",
   "execution_count": 3,
   "metadata": {
    "collapsed": true
   },
   "outputs": [],
   "source": [
    "from datetime import datetime, timedelta\n",
    "\n",
    "dt = 5  # days\n",
    "\n",
    "now = datetime.utcnow()\n",
    "start = now - timedelta(days=dt)\n",
    "stop = now + timedelta(days=dt)"
   ]
  },
  {
   "cell_type": "code",
   "execution_count": 4,
   "metadata": {
    "collapsed": true
   },
   "outputs": [],
   "source": [
    "sos_name = 'sea_water_temperature'"
   ]
  },
  {
   "cell_type": "markdown",
   "metadata": {},
   "source": [
    "## Instantiate and configure (filter) NdbcSos collector"
   ]
  },
  {
   "cell_type": "code",
   "execution_count": 5,
   "metadata": {
    "collapsed": false
   },
   "outputs": [
    {
     "name": "stdout",
     "output_type": "stream",
     "text": [
      "******************* NDBC Collector offerings *******************\n",
      "National Data Buoy Center SOS: 964 offerings\n"
     ]
    }
   ],
   "source": [
    "collector_ndbc = NdbcSos()\n",
    "\n",
    "collector_ndbc.set_bbox(bbox)\n",
    "collector_ndbc.end_time = stop\n",
    "collector_ndbc.start_time = start\n",
    "collector_ndbc.variables = [sos_name]\n",
    "\n",
    "ofrs = collector_ndbc.server.offerings\n",
    "title = collector_ndbc.server.identification.title\n",
    "\n",
    "print(fmt(' NDBC Collector offerings '))\n",
    "print('{}: {} offerings'.format(title, len(ofrs)))"
   ]
  },
  {
   "cell_type": "markdown",
   "metadata": {},
   "source": [
    "Note that the filters set on the collector don't apply to the server offerings. `server` shows everything available. That's why there are 964 offerings."
   ]
  },
  {
   "cell_type": "markdown",
   "metadata": {
    "collapsed": false
   },
   "source": [
    "### FYI: Information available from each offering\n",
    "Sparse but useful metadata. No filtering of any kind applied yet."
   ]
  },
  {
   "cell_type": "code",
   "execution_count": 6,
   "metadata": {
    "collapsed": false
   },
   "outputs": [
    {
     "data": {
      "text/plain": [
       "{'_root': <Element {http://www.opengis.net/sos/1.0}ObservationOffering at 0x7f790f9e97a0>,\n",
       " 'bbox': (-87.313, 44.794, -87.313, 44.794),\n",
       " 'bbox_srs': urn:ogc:def:crs:EPSG::4326,\n",
       " 'begin_position': datetime.datetime(2012, 5, 31, 23, 40, tzinfo=tzutc()),\n",
       " 'description': 'Sturgeon Bay CG Station, WS',\n",
       " 'end_position': datetime.datetime(2015, 8, 18, 11, 40, tzinfo=tzutc()),\n",
       " 'features_of_interest': ['urn:cgi:Feature:CGI:EarthOcean'],\n",
       " 'id': 'station-0y2w3',\n",
       " 'name': 'urn:ioos:station:wmo:0y2w3',\n",
       " 'observed_properties': ['http://mmisw.org/ont/cf/parameter/air_temperature',\n",
       "  'http://mmisw.org/ont/cf/parameter/air_pressure_at_sea_level',\n",
       "  'http://mmisw.org/ont/cf/parameter/sea_water_temperature',\n",
       "  'http://mmisw.org/ont/cf/parameter/winds'],\n",
       " 'procedures': ['urn:ioos:station:wmo:0y2w3'],\n",
       " 'response_formats': ['text/xml;subtype=\"om/1.0.0\"',\n",
       "  'text/csv',\n",
       "  'text/tab-separated-values',\n",
       "  'application/vnd.google-earth.kml+xml',\n",
       "  'text/xml;schema=\"ioos/0.6.1\"',\n",
       "  'application/ioos+xml;version=0.6.1'],\n",
       " 'response_modes': ['inline'],\n",
       " 'result_model': 'om:ObservationCollection',\n",
       " 'srs': urn:ogc:def:crs:EPSG::4326}"
      ]
     },
     "execution_count": 6,
     "metadata": {},
     "output_type": "execute_result"
    }
   ],
   "source": [
    "# 'offering' is a list; here's one entry\n",
    "ofr1 = collector_ndbc.server.offerings[1]\n",
    "vars(ofr1)"
   ]
  },
  {
   "cell_type": "code",
   "execution_count": 7,
   "metadata": {
    "collapsed": false
   },
   "outputs": [
    {
     "data": {
      "text/plain": [
       "('station-0y2w3', 'urn:ioos:station:wmo:0y2w3', ['urn:ioos:station:wmo:0y2w3'])"
      ]
     },
     "execution_count": 7,
     "metadata": {},
     "output_type": "execute_result"
    }
   ],
   "source": [
    "ofr1.id, ofr1.name, ofr1.procedures"
   ]
  },
  {
   "cell_type": "code",
   "execution_count": 8,
   "metadata": {
    "collapsed": false
   },
   "outputs": [
    {
     "data": {
      "text/plain": [
       "{'_root': <Element {http://www.opengis.net/sos/1.0}ObservationOffering at 0x7f790f9f3a28>,\n",
       " 'bbox': (-124.244, 46.857, -124.244, 46.857),\n",
       " 'bbox_srs': urn:ogc:def:crs:EPSG::4326,\n",
       " 'begin_position': datetime.datetime(2009, 5, 14, 14, 26, tzinfo=tzutc()),\n",
       " 'description': 'Grays Harbor, WA (036)',\n",
       " 'end_position': datetime.datetime(2015, 12, 24, 0, 50, 43, 893170),\n",
       " 'features_of_interest': ['urn:cgi:Feature:CGI:EarthOcean'],\n",
       " 'id': 'station-46211',\n",
       " 'name': 'urn:ioos:station:wmo:46211',\n",
       " 'observed_properties': ['http://mmisw.org/ont/cf/parameter/sea_water_temperature',\n",
       "  'http://mmisw.org/ont/cf/parameter/waves'],\n",
       " 'procedures': ['urn:ioos:station:wmo:46211'],\n",
       " 'response_formats': ['text/xml;subtype=\"om/1.0.0\"',\n",
       "  'text/csv',\n",
       "  'text/tab-separated-values',\n",
       "  'application/vnd.google-earth.kml+xml',\n",
       "  'text/xml;schema=\"ioos/0.6.1\"',\n",
       "  'application/ioos+xml;version=0.6.1'],\n",
       " 'response_modes': ['inline'],\n",
       " 'result_model': 'om:ObservationCollection',\n",
       " 'srs': urn:ogc:def:crs:EPSG::4326}"
      ]
     },
     "execution_count": 8,
     "metadata": {},
     "output_type": "execute_result"
    }
   ],
   "source": [
    "# 'content' is a dictionary; here's one entry\n",
    "vars(collector_ndbc.server.contents['station-46211'])"
   ]
  },
  {
   "cell_type": "markdown",
   "metadata": {},
   "source": [
    "## Apply collector `raw` method\n",
    "The result is the filtered time series data. But that information will also be used to extract the set of stations returned, then issue a collector `metadata` request."
   ]
  },
  {
   "cell_type": "code",
   "execution_count": 9,
   "metadata": {
    "collapsed": true
   },
   "outputs": [],
   "source": [
    "collector_ndbc_raw = collector_ndbc.raw(responseFormat=\"text/csv\")"
   ]
  },
  {
   "cell_type": "markdown",
   "metadata": {},
   "source": [
    "`collector_ndbc_raw` is the entire `csv` string."
   ]
  },
  {
   "cell_type": "code",
   "execution_count": 10,
   "metadata": {
    "collapsed": false
   },
   "outputs": [
    {
     "data": {
      "text/plain": [
       "(str, 220604)"
      ]
     },
     "execution_count": 10,
     "metadata": {},
     "output_type": "execute_result"
    }
   ],
   "source": [
    "type(collector_ndbc_raw), len(collector_ndbc_raw)"
   ]
  },
  {
   "cell_type": "code",
   "execution_count": 11,
   "metadata": {
    "collapsed": false
   },
   "outputs": [
    {
     "data": {
      "text/plain": [
       "2058"
      ]
     },
     "execution_count": 11,
     "metadata": {},
     "output_type": "execute_result"
    }
   ],
   "source": [
    "# See a piece of the csv\n",
    "ndbc_raw_lst = collector_ndbc_raw.splitlines()\n",
    "len(ndbc_raw_lst)"
   ]
  },
  {
   "cell_type": "code",
   "execution_count": 12,
   "metadata": {
    "collapsed": false
   },
   "outputs": [
    {
     "data": {
      "text/plain": [
       "['station_id,sensor_id,\"latitude (degree)\",\"longitude (degree)\",date_time,\"depth (m)\",\"sea_water_temperature (C)\"',\n",
       " 'urn:ioos:station:wmo:46029,urn:ioos:sensor:wmo:46029::watertemp1,46.14,-124.51,2015-12-19T01:50:00Z,0.60,11.40',\n",
       " 'urn:ioos:station:wmo:46029,urn:ioos:sensor:wmo:46029::watertemp1,46.14,-124.51,2015-12-19T02:50:00Z,0.60,11.40',\n",
       " 'urn:ioos:station:wmo:46029,urn:ioos:sensor:wmo:46029::watertemp1,46.14,-124.51,2015-12-19T03:50:00Z,0.60,11.40',\n",
       " 'urn:ioos:station:wmo:46029,urn:ioos:sensor:wmo:46029::watertemp1,46.14,-124.51,2015-12-19T04:50:00Z,0.60,11.40']"
      ]
     },
     "execution_count": 12,
     "metadata": {},
     "output_type": "execute_result"
    }
   ],
   "source": [
    "ndbc_raw_lst[:5]"
   ]
  },
  {
   "cell_type": "markdown",
   "metadata": {},
   "source": [
    "Read the time series data into a DataFrame; but keep only the information/columns we'll use for plotting."
   ]
  },
  {
   "cell_type": "code",
   "execution_count": 13,
   "metadata": {
    "collapsed": false
   },
   "outputs": [
    {
     "data": {
      "text/html": [
       "<div>\n",
       "<table border=\"1\" class=\"dataframe\">\n",
       "  <thead>\n",
       "    <tr style=\"text-align: right;\">\n",
       "      <th></th>\n",
       "      <th>station</th>\n",
       "      <th>date_time</th>\n",
       "      <th>depth_m</th>\n",
       "      <th>sea_water_temperature</th>\n",
       "    </tr>\n",
       "  </thead>\n",
       "  <tbody>\n",
       "    <tr>\n",
       "      <th>0</th>\n",
       "      <td>46029</td>\n",
       "      <td>2015-12-19T01:50:00Z</td>\n",
       "      <td>0.6</td>\n",
       "      <td>11.4</td>\n",
       "    </tr>\n",
       "    <tr>\n",
       "      <th>1</th>\n",
       "      <td>46029</td>\n",
       "      <td>2015-12-19T02:50:00Z</td>\n",
       "      <td>0.6</td>\n",
       "      <td>11.4</td>\n",
       "    </tr>\n",
       "    <tr>\n",
       "      <th>2</th>\n",
       "      <td>46029</td>\n",
       "      <td>2015-12-19T03:50:00Z</td>\n",
       "      <td>0.6</td>\n",
       "      <td>11.4</td>\n",
       "    </tr>\n",
       "    <tr>\n",
       "      <th>3</th>\n",
       "      <td>46029</td>\n",
       "      <td>2015-12-19T04:50:00Z</td>\n",
       "      <td>0.6</td>\n",
       "      <td>11.4</td>\n",
       "    </tr>\n",
       "    <tr>\n",
       "      <th>4</th>\n",
       "      <td>46029</td>\n",
       "      <td>2015-12-19T05:50:00Z</td>\n",
       "      <td>0.6</td>\n",
       "      <td>11.4</td>\n",
       "    </tr>\n",
       "    <tr>\n",
       "      <th>5</th>\n",
       "      <td>46029</td>\n",
       "      <td>2015-12-19T06:50:00Z</td>\n",
       "      <td>0.6</td>\n",
       "      <td>11.4</td>\n",
       "    </tr>\n",
       "    <tr>\n",
       "      <th>6</th>\n",
       "      <td>46029</td>\n",
       "      <td>2015-12-19T07:50:00Z</td>\n",
       "      <td>0.6</td>\n",
       "      <td>11.4</td>\n",
       "    </tr>\n",
       "    <tr>\n",
       "      <th>7</th>\n",
       "      <td>46029</td>\n",
       "      <td>2015-12-19T08:50:00Z</td>\n",
       "      <td>0.6</td>\n",
       "      <td>11.4</td>\n",
       "    </tr>\n",
       "    <tr>\n",
       "      <th>8</th>\n",
       "      <td>46029</td>\n",
       "      <td>2015-12-19T09:50:00Z</td>\n",
       "      <td>0.6</td>\n",
       "      <td>11.4</td>\n",
       "    </tr>\n",
       "    <tr>\n",
       "      <th>9</th>\n",
       "      <td>46029</td>\n",
       "      <td>2015-12-19T10:50:00Z</td>\n",
       "      <td>0.6</td>\n",
       "      <td>11.3</td>\n",
       "    </tr>\n",
       "  </tbody>\n",
       "</table>\n",
       "</div>"
      ],
      "text/plain": [
       "  station             date_time  depth_m  sea_water_temperature\n",
       "0   46029  2015-12-19T01:50:00Z      0.6                   11.4\n",
       "1   46029  2015-12-19T02:50:00Z      0.6                   11.4\n",
       "2   46029  2015-12-19T03:50:00Z      0.6                   11.4\n",
       "3   46029  2015-12-19T04:50:00Z      0.6                   11.4\n",
       "4   46029  2015-12-19T05:50:00Z      0.6                   11.4\n",
       "5   46029  2015-12-19T06:50:00Z      0.6                   11.4\n",
       "6   46029  2015-12-19T07:50:00Z      0.6                   11.4\n",
       "7   46029  2015-12-19T08:50:00Z      0.6                   11.4\n",
       "8   46029  2015-12-19T09:50:00Z      0.6                   11.4\n",
       "9   46029  2015-12-19T10:50:00Z      0.6                   11.3"
      ]
     },
     "execution_count": 13,
     "metadata": {},
     "output_type": "execute_result"
    }
   ],
   "source": [
    "from StringIO import StringIO\n",
    "\n",
    "datacsv_df = pd.read_csv(StringIO(collector_ndbc_raw.encode('utf-8')), \n",
    "                         parse_dates=True)\n",
    "columns = {'station_id': 'station',\n",
    "           'depth (m)': 'depth_m',\n",
    "           'sea_water_temperature (C)': sos_name}\n",
    "           \n",
    "datacsv_df.rename(columns=columns, inplace=True)\n",
    "datacsv_df['station'] = [s.split(':')[-1] for s in datacsv_df['station']]\n",
    "datacsv_df.drop(['sensor_id', 'latitude (degree)', 'longitude (degree)'], \n",
    "                axis=1, inplace=True)\n",
    "\n",
    "datacsv_df.head(10)"
   ]
  },
  {
   "cell_type": "markdown",
   "metadata": {},
   "source": [
    "### Extract unique station id's as a list\n",
    "To be reused with the collector `metadata` method, next."
   ]
  },
  {
   "cell_type": "code",
   "execution_count": 14,
   "metadata": {
    "collapsed": false
   },
   "outputs": [
    {
     "data": {
      "text/plain": [
       "(11,\n",
       " ['46029',\n",
       "  '46041',\n",
       "  '46050',\n",
       "  '46089',\n",
       "  '46211',\n",
       "  '46229',\n",
       "  '46243',\n",
       "  '46248',\n",
       "  'jtaw1',\n",
       "  'sefo3',\n",
       "  'seto3'])"
      ]
     },
     "execution_count": 14,
     "metadata": {},
     "output_type": "execute_result"
    }
   ],
   "source": [
    "stations = list(datacsv_df.station.unique())\n",
    "len(stations), stations"
   ]
  },
  {
   "cell_type": "markdown",
   "metadata": {},
   "source": [
    "## Extract station information using collector `metadata` method"
   ]
  },
  {
   "cell_type": "code",
   "execution_count": 15,
   "metadata": {
    "collapsed": false
   },
   "outputs": [
    {
     "data": {
      "text/plain": [
       "{'outputFormat': {'values': ['text/xml;subtype=\"sensorML/1.0.1\"']}}"
      ]
     },
     "execution_count": 15,
     "metadata": {},
     "output_type": "execute_result"
    }
   ],
   "source": [
    "descsen = collector_ndbc.server.get_operation_by_name('describesensor')\n",
    "descsen.parameters"
   ]
  },
  {
   "cell_type": "code",
   "execution_count": 16,
   "metadata": {
    "collapsed": false
   },
   "outputs": [
    {
     "data": {
      "text/plain": [
       "(list, 11, <owslib.swe.sensor.sml.SensorML at 0x7f79119ee390>)"
      ]
     },
     "execution_count": 16,
     "metadata": {},
     "output_type": "execute_result"
    }
   ],
   "source": [
    "# The metadata method for the NdbcSos collector expects\n",
    "# features to be in the shortened, \"station wmo id\" form (eg, 46098),\n",
    "# rather than the offering name (eg, station-46089) \n",
    "# or the station urn (eg, urn:ioos:station:wmo:46089)\n",
    "output_format = descsen.parameters['outputFormat']['values'][0]\n",
    "collector_ndbc.features = stations\n",
    "ndbc_md_lst = collector_ndbc.metadata(output_format=output_format)\n",
    "type(ndbc_md_lst), len(ndbc_md_lst), ndbc_md_lst[0]"
   ]
  },
  {
   "cell_type": "code",
   "execution_count": 17,
   "metadata": {
    "collapsed": false
   },
   "outputs": [
    {
     "name": "stdout",
     "output_type": "stream",
     "text": [
      "urn:ioos:station:wmo:46029\n",
      "urn:ioos:station:wmo:46041\n",
      "urn:ioos:station:wmo:46050\n",
      "urn:ioos:station:wmo:46089\n",
      "urn:ioos:station:wmo:46211\n",
      "urn:ioos:station:wmo:46229\n",
      "urn:ioos:station:wmo:46243\n",
      "urn:ioos:station:wmo:46248\n",
      "urn:ioos:station:wmo:jtaw1\n",
      "urn:ioos:station:wmo:sefo3\n",
      "urn:ioos:station:wmo:seto3\n"
     ]
    }
   ],
   "source": [
    "for sml in ndbc_md_lst:\n",
    "    print sml.members[0].identifiers['stationId'].value"
   ]
  },
  {
   "cell_type": "markdown",
   "metadata": {},
   "source": [
    "One of the SensorML responses, for illustration. The corresponding url for the DecribeSensor request for sta0_sml is http://sdf.ndbc.noaa.gov/sos/server.php?request=DescribeSensor&service=SOS&version=1.0.0&outputformat=text/xml;subtype=%22sensorML/1.0.1%22&procedure=urn:ioos:station:wmo:46211"
   ]
  },
  {
   "cell_type": "code",
   "execution_count": 18,
   "metadata": {
    "collapsed": false
   },
   "outputs": [
    {
     "data": {
      "text/plain": [
       "<owslib.swe.sensor.sml.System at 0x7f790eda75d0>"
      ]
     },
     "execution_count": 18,
     "metadata": {},
     "output_type": "execute_result"
    }
   ],
   "source": [
    "sta0_sml = ndbc_md_lst[4].members[0]\n",
    "sta0_sml"
   ]
  },
  {
   "cell_type": "code",
   "execution_count": 19,
   "metadata": {
    "collapsed": false
   },
   "outputs": [
    {
     "data": {
      "text/plain": [
       "{'capabilities': {'ioosServiceMetadata': <Element {http://www.opengis.net/swe/1.0.1}SimpleDataRecord at 0x7f790ee17cb0>},\n",
       " 'characteristics': {},\n",
       " 'classifiers': {'platformType': <owslib.swe.sensor.sml.Classifier at 0x7f790edab7d0>,\n",
       "  'publisher': <owslib.swe.sensor.sml.Classifier at 0x7f790edab750>},\n",
       " 'components': [<Element {http://www.opengis.net/sensorML/1.0.1}component at 0x7f790ee177e8>,\n",
       "  <Element {http://www.opengis.net/sensorML/1.0.1}component at 0x7f790ee177a0>],\n",
       " 'connections': [],\n",
       " 'contacts': {'http://mmisw.org/ont/ioos/definition/operator': <owslib.swe.sensor.sml.Contact at 0x7f790edab910>,\n",
       "  'http://mmisw.org/ont/ioos/definition/publisher': <owslib.swe.sensor.sml.Contact at 0x7f790edab990>},\n",
       " 'description': 'Station metadata for 46211 - Grays Harbor, WA (036)',\n",
       " 'documentation': [<owslib.swe.sensor.sml.Documentation at 0x7f790edab310>],\n",
       " 'gmlBoundedBy': None,\n",
       " 'history': {},\n",
       " 'identifiers': {'longName': <owslib.swe.sensor.sml.Identifier at 0x7f790edab850>,\n",
       "  'shortName': <owslib.swe.sensor.sml.Identifier at 0x7f790edab810>,\n",
       "  'stationId': <owslib.swe.sensor.sml.Identifier at 0x7f790edaba90>},\n",
       " 'inputs': [],\n",
       " 'interface': None,\n",
       " 'keywords': [],\n",
       " 'location': <Element {http://www.opengis.net/sensorML/1.0.1}location at 0x7f790ee178c0>,\n",
       " 'name': 'urn:ioos:station:wmo:46211',\n",
       " 'outputs': [],\n",
       " 'parameters': [],\n",
       " 'positions': [],\n",
       " 'rights': [],\n",
       " 'security': [],\n",
       " 'smlBoundedBy': None,\n",
       " 'spatialReferenceFrame': None,\n",
       " 'temporalReferenceFrame': None,\n",
       " 'timePosition': None,\n",
       " 'validTime': None}"
      ]
     },
     "execution_count": 19,
     "metadata": {},
     "output_type": "execute_result"
    }
   ],
   "source": [
    "vars(sta0_sml)"
   ]
  },
  {
   "cell_type": "markdown",
   "metadata": {},
   "source": [
    "Available contacts roles, identifiers, and classifiers:"
   ]
  },
  {
   "cell_type": "code",
   "execution_count": 20,
   "metadata": {
    "collapsed": false
   },
   "outputs": [
    {
     "data": {
      "text/plain": [
       "(['http://mmisw.org/ont/ioos/definition/operator',\n",
       "  'http://mmisw.org/ont/ioos/definition/publisher'],\n",
       " ['stationId', 'shortName', 'longName'],\n",
       " ['publisher', 'platformType'])"
      ]
     },
     "execution_count": 20,
     "metadata": {},
     "output_type": "execute_result"
    }
   ],
   "source": [
    "sta0_sml.contacts.keys(), sta0_sml.identifiers.keys(), sta0_sml.classifiers.keys()"
   ]
  },
  {
   "cell_type": "markdown",
   "metadata": {},
   "source": [
    "### Extract and transform the desired station metadata, then create DataFrame"
   ]
  },
  {
   "cell_type": "code",
   "execution_count": 21,
   "metadata": {
    "collapsed": false
   },
   "outputs": [],
   "source": [
    "stations_md_rec = []\n",
    "for sta_sml_members in ndbc_md_lst:\n",
    "    sta_sml = sta_sml_members.members[0]\n",
    "    station_urn = sta_sml.identifiers['stationId'].value\n",
    "    # The XPath for the location/point coordinates doesn't follow\n",
    "    # the IOOS SOS convention.\n",
    "    loc_str = sta_sml.location.find(owslibsml.nsp('gml:Point/gml:coordinates')).text\n",
    "    # In some cases the platform type XML element seems to be missing ...\n",
    "    if 'platformType' in sta_sml.classifiers:\n",
    "        platform_type = sta_sml.classifiers['platformType'].value\n",
    "    else:\n",
    "        platform_type = 'Unknown'\n",
    "    \n",
    "    sta_md = dict(\n",
    "        station_id = station_urn.split(':')[-1],\n",
    "        station_urn = station_urn,\n",
    "        # Long name is also available in the offering as the offering description\n",
    "        longname = sta_sml.identifiers['longName'].value,\n",
    "        lat = float(loc_str.split()[0]),\n",
    "        lon = float(loc_str.split()[1]),\n",
    "        operator = sta_sml.contacts['http://mmisw.org/ont/ioos/definition/operator'].organization,\n",
    "        platform_type = platform_type\n",
    "    )\n",
    "    stations_md_rec.append(sta_md)"
   ]
  },
  {
   "cell_type": "code",
   "execution_count": 22,
   "metadata": {
    "collapsed": false
   },
   "outputs": [
    {
     "name": "stdout",
     "output_type": "stream",
     "text": [
      "Number of stations: 11\n"
     ]
    },
    {
     "data": {
      "text/html": [
       "<div>\n",
       "<table border=\"1\" class=\"dataframe\">\n",
       "  <thead>\n",
       "    <tr style=\"text-align: right;\">\n",
       "      <th></th>\n",
       "      <th>lat</th>\n",
       "      <th>lon</th>\n",
       "      <th>longname</th>\n",
       "      <th>operator</th>\n",
       "      <th>platform_type</th>\n",
       "      <th>station_urn</th>\n",
       "    </tr>\n",
       "    <tr>\n",
       "      <th>station_id</th>\n",
       "      <th></th>\n",
       "      <th></th>\n",
       "      <th></th>\n",
       "      <th></th>\n",
       "      <th></th>\n",
       "      <th></th>\n",
       "    </tr>\n",
       "  </thead>\n",
       "  <tbody>\n",
       "    <tr>\n",
       "      <th>46029</th>\n",
       "      <td>46.140</td>\n",
       "      <td>-124.510</td>\n",
       "      <td>COL RIVER BAR - 78NM South Southwest of Aberde...</td>\n",
       "      <td>National Data Buoy Center</td>\n",
       "      <td>MOORED BUOY</td>\n",
       "      <td>urn:ioos:station:wmo:46029</td>\n",
       "    </tr>\n",
       "    <tr>\n",
       "      <th>46041</th>\n",
       "      <td>47.340</td>\n",
       "      <td>-124.750</td>\n",
       "      <td>CAPE ELIZABETH- 45NM Northwest of Aberdeen, WA</td>\n",
       "      <td>National Data Buoy Center</td>\n",
       "      <td>Unknown</td>\n",
       "      <td>urn:ioos:station:wmo:46041</td>\n",
       "    </tr>\n",
       "    <tr>\n",
       "      <th>46050</th>\n",
       "      <td>44.640</td>\n",
       "      <td>-124.500</td>\n",
       "      <td>STONEWALL BANKS - 20NM West of Newport, OR</td>\n",
       "      <td>National Data Buoy Center</td>\n",
       "      <td>Unknown</td>\n",
       "      <td>urn:ioos:station:wmo:46050</td>\n",
       "    </tr>\n",
       "    <tr>\n",
       "      <th>46089</th>\n",
       "      <td>45.910</td>\n",
       "      <td>-125.760</td>\n",
       "      <td>Tillamook, OR</td>\n",
       "      <td>National Data Buoy Center</td>\n",
       "      <td>MOORED BUOY</td>\n",
       "      <td>urn:ioos:station:wmo:46089</td>\n",
       "    </tr>\n",
       "    <tr>\n",
       "      <th>46211</th>\n",
       "      <td>46.857</td>\n",
       "      <td>-124.244</td>\n",
       "      <td>Grays Harbor, WA (036)</td>\n",
       "      <td>SCRIPPS</td>\n",
       "      <td>MOORED BUOY</td>\n",
       "      <td>urn:ioos:station:wmo:46211</td>\n",
       "    </tr>\n",
       "    <tr>\n",
       "      <th>46229</th>\n",
       "      <td>43.769</td>\n",
       "      <td>-124.551</td>\n",
       "      <td>UMPQUA OFFSHORE, OR (139)</td>\n",
       "      <td>SCRIPPS</td>\n",
       "      <td>MOORED BUOY</td>\n",
       "      <td>urn:ioos:station:wmo:46229</td>\n",
       "    </tr>\n",
       "    <tr>\n",
       "      <th>46243</th>\n",
       "      <td>46.200</td>\n",
       "      <td>-124.117</td>\n",
       "      <td>Clatsop Spit, OR - 162</td>\n",
       "      <td>SCRIPPS</td>\n",
       "      <td>MOORED BUOY</td>\n",
       "      <td>urn:ioos:station:wmo:46243</td>\n",
       "    </tr>\n",
       "    <tr>\n",
       "      <th>46248</th>\n",
       "      <td>46.133</td>\n",
       "      <td>-124.667</td>\n",
       "      <td>Astoria Canyon, OR  (179)</td>\n",
       "      <td>SCRIPPS</td>\n",
       "      <td>Unknown</td>\n",
       "      <td>urn:ioos:station:wmo:46248</td>\n",
       "    </tr>\n",
       "    <tr>\n",
       "      <th>jtaw1</th>\n",
       "      <td>46.266</td>\n",
       "      <td>-124.038</td>\n",
       "      <td>Jetty A, USCG Station Disappointment</td>\n",
       "      <td>Center for Coastal Margin Observation and Pred...</td>\n",
       "      <td>Unknown</td>\n",
       "      <td>urn:ioos:station:wmo:jtaw1</td>\n",
       "    </tr>\n",
       "    <tr>\n",
       "      <th>sefo3</th>\n",
       "      <td>46.204</td>\n",
       "      <td>-123.759</td>\n",
       "      <td>SATURN Estuary Station #04 at Mott Basin</td>\n",
       "      <td>Center for Coastal Margin Observation and Pred...</td>\n",
       "      <td>Unknown</td>\n",
       "      <td>urn:ioos:station:wmo:sefo3</td>\n",
       "    </tr>\n",
       "    <tr>\n",
       "      <th>seto3</th>\n",
       "      <td>46.200</td>\n",
       "      <td>-123.941</td>\n",
       "      <td>SATURN Estuary Station #03</td>\n",
       "      <td>Center for Coastal Margin Observation and Pred...</td>\n",
       "      <td>Unknown</td>\n",
       "      <td>urn:ioos:station:wmo:seto3</td>\n",
       "    </tr>\n",
       "  </tbody>\n",
       "</table>\n",
       "</div>"
      ],
      "text/plain": [
       "               lat      lon  \\\n",
       "station_id                    \n",
       "46029       46.140 -124.510   \n",
       "46041       47.340 -124.750   \n",
       "46050       44.640 -124.500   \n",
       "46089       45.910 -125.760   \n",
       "46211       46.857 -124.244   \n",
       "46229       43.769 -124.551   \n",
       "46243       46.200 -124.117   \n",
       "46248       46.133 -124.667   \n",
       "jtaw1       46.266 -124.038   \n",
       "sefo3       46.204 -123.759   \n",
       "seto3       46.200 -123.941   \n",
       "\n",
       "                                                     longname  \\\n",
       "station_id                                                      \n",
       "46029       COL RIVER BAR - 78NM South Southwest of Aberde...   \n",
       "46041          CAPE ELIZABETH- 45NM Northwest of Aberdeen, WA   \n",
       "46050              STONEWALL BANKS - 20NM West of Newport, OR   \n",
       "46089                                           Tillamook, OR   \n",
       "46211                                  Grays Harbor, WA (036)   \n",
       "46229                               UMPQUA OFFSHORE, OR (139)   \n",
       "46243                                  Clatsop Spit, OR - 162   \n",
       "46248                               Astoria Canyon, OR  (179)   \n",
       "jtaw1                    Jetty A, USCG Station Disappointment   \n",
       "sefo3                SATURN Estuary Station #04 at Mott Basin   \n",
       "seto3                              SATURN Estuary Station #03   \n",
       "\n",
       "                                                     operator platform_type  \\\n",
       "station_id                                                                    \n",
       "46029                               National Data Buoy Center   MOORED BUOY   \n",
       "46041                               National Data Buoy Center       Unknown   \n",
       "46050                               National Data Buoy Center       Unknown   \n",
       "46089                               National Data Buoy Center   MOORED BUOY   \n",
       "46211                                                 SCRIPPS   MOORED BUOY   \n",
       "46229                                                 SCRIPPS   MOORED BUOY   \n",
       "46243                                                 SCRIPPS   MOORED BUOY   \n",
       "46248                                                 SCRIPPS       Unknown   \n",
       "jtaw1       Center for Coastal Margin Observation and Pred...       Unknown   \n",
       "sefo3       Center for Coastal Margin Observation and Pred...       Unknown   \n",
       "seto3       Center for Coastal Margin Observation and Pred...       Unknown   \n",
       "\n",
       "                           station_urn  \n",
       "station_id                              \n",
       "46029       urn:ioos:station:wmo:46029  \n",
       "46041       urn:ioos:station:wmo:46041  \n",
       "46050       urn:ioos:station:wmo:46050  \n",
       "46089       urn:ioos:station:wmo:46089  \n",
       "46211       urn:ioos:station:wmo:46211  \n",
       "46229       urn:ioos:station:wmo:46229  \n",
       "46243       urn:ioos:station:wmo:46243  \n",
       "46248       urn:ioos:station:wmo:46248  \n",
       "jtaw1       urn:ioos:station:wmo:jtaw1  \n",
       "sefo3       urn:ioos:station:wmo:sefo3  \n",
       "seto3       urn:ioos:station:wmo:seto3  "
      ]
     },
     "execution_count": 22,
     "metadata": {},
     "output_type": "execute_result"
    }
   ],
   "source": [
    "stations_df = pd.DataFrame.from_records(stations_md_rec, index='station_id')\n",
    "print \"Number of stations: %d\" % len(stations_df)\n",
    "stations_df.head(20)"
   ]
  },
  {
   "cell_type": "markdown",
   "metadata": {},
   "source": [
    "## Plot the time series"
   ]
  },
  {
   "cell_type": "code",
   "execution_count": 23,
   "metadata": {
    "collapsed": false
   },
   "outputs": [
    {
     "name": "stderr",
     "output_type": "stream",
     "text": [
      "/home/mayorga/miniconda/envs/ioos_source/lib/python2.7/site-packages/matplotlib/__init__.py:872: UserWarning: axes.color_cycle is deprecated and replaced with axes.prop_cycle; please use the latter.\n",
      "  warnings.warn(self.msg_depr % (key, alt_key))\n"
     ]
    }
   ],
   "source": [
    "%matplotlib inline\n",
    "import seaborn\n",
    "import matplotlib.pyplot as plt"
   ]
  },
  {
   "cell_type": "code",
   "execution_count": 24,
   "metadata": {
    "collapsed": false
   },
   "outputs": [
    {
     "data": {
      "image/png": "[encoded data removed]",
      "text/plain": [
       "<matplotlib.figure.Figure at 0x7f790eed4b10>"
      ]
     },
     "metadata": {},
     "output_type": "display_data"
    }
   ],
   "source": [
    "fig, ax = plt.subplots(figsize=(14, 5))\n",
    "\n",
    "colors = seaborn.color_palette(\"Set2\", len(stations))\n",
    "for k, station in enumerate(stations):\n",
    "    stadatadf = datacsv_df[datacsv_df.station == station]\n",
    "    stadatadf = stadatadf.set_index('date_time')\n",
    "    stamddf = stations_df.ix[station]\n",
    "    label = \"%s: %s\" % (station, stamddf.longname)\n",
    "    stadatadf[sos_name].plot(ax=ax, label=label, color=colors[k])\n",
    "ax.legend(bbox_to_anchor=(1, 1))\n",
    "ax.set_ylabel(sos_name + ' (C)');"
   ]
  },
  {
   "cell_type": "markdown",
   "metadata": {},
   "source": [
    "The `sefo3` station can predict the future!\n",
    "\n",
    "--------------------------------------------------------"
   ]
  },
  {
   "cell_type": "markdown",
   "metadata": {},
   "source": [
    "## Postscript: The collector `collect` method\n",
    "It hasn't been customized for NdbcSos, so it is not very useful yet."
   ]
  },
  {
   "cell_type": "code",
   "execution_count": 25,
   "metadata": {
    "collapsed": false
   },
   "outputs": [
    {
     "name": "stdout",
     "output_type": "stream",
     "text": [
      "NDBC does not support filtering by > 1 station at a time... returning all stations.\n"
     ]
    },
    {
     "data": {
      "text/plain": [
       "(list,\n",
       " 11,\n",
       " <pyoos.parsers.ioos.one.get_observation.OmObservation at 0x7f79012c1090>)"
      ]
     },
     "execution_count": 25,
     "metadata": {},
     "output_type": "execute_result"
    }
   ],
   "source": [
    "# The argument offerings=['urn:ioos:network:noaa.nws.ndbc:all'] is not needed.\n",
    "# It is passed by default.\n",
    "collector_ndbc_collect = collector_ndbc.collect(responseFormat='text/xml;subtype=\"om/1.0.0\"')\n",
    "type(collector_ndbc_collect), len(collector_ndbc_collect), collector_ndbc_collect[0]"
   ]
  },
  {
   "cell_type": "code",
   "execution_count": 26,
   "metadata": {
    "collapsed": false
   },
   "outputs": [
    {
     "name": "stdout",
     "output_type": "stream",
     "text": [
      "Observed sea_water_temperature at urn:ioos:station:wmo:46029, COL RIVER BAR - 78NM South Southwest of Aberdeen, WA\n",
      "Observed sea_water_temperature at urn:ioos:station:wmo:46041, CAPE ELIZABETH- 45NM Northwest of Aberdeen, WA\n",
      "Observed sea_water_temperature at urn:ioos:station:wmo:46050, STONEWALL BANKS - 20NM West of Newport, OR\n",
      "Observed sea_water_temperature at urn:ioos:station:wmo:46089, Tillamook, OR\n",
      "Observed sea_water_temperature at urn:ioos:station:wmo:46211, Grays Harbor, WA (036)\n",
      "Observed sea_water_temperature at urn:ioos:station:wmo:46229, UMPQUA OFFSHORE, OR (139)\n",
      "Observed sea_water_temperature at urn:ioos:station:wmo:46243, Clatsop Spit, OR - 162\n",
      "Observed sea_water_temperature at urn:ioos:station:wmo:46248, Astoria Canyon, OR  (179)\n",
      "Observed sea_water_temperature at urn:ioos:station:wmo:jtaw1, Jetty A, USCG Station Disappointment\n",
      "Observed sea_water_temperature at urn:ioos:station:wmo:sefo3, SATURN Estuary Station #04 at Mott Basin\n",
      "Observed sea_water_temperature at urn:ioos:station:wmo:seto3, SATURN Estuary Station #03\n"
     ]
    }
   ],
   "source": [
    "for s in collector_ndbc_collect:\n",
    "    print s.description"
   ]
  },
  {
   "cell_type": "code",
   "execution_count": 27,
   "metadata": {
    "collapsed": false
   },
   "outputs": [
    {
     "data": {
      "text/plain": [
       "{'_root': <Element {http://www.opengis.net/om/1.0}Observation at 0x7f790131e908>,\n",
       " 'bbox': <shapely.geometry.polygon.Polygon at 0x7f79012c1410>,\n",
       " 'bbox_srs': urn:ogc:def:crs:EPSG::4326,\n",
       " 'begin_position': datetime.datetime(2015, 12, 19, 0, 51, tzinfo=tzutc()),\n",
       " 'description': 'Observed sea_water_temperature at urn:ioos:station:wmo:46029, COL RIVER BAR - 78NM South Southwest of Aberdeen, WA',\n",
       " 'end_position': datetime.datetime(2015, 12, 24, 0, 2, tzinfo=tzutc()),\n",
       " 'feature': None,\n",
       " 'feature_type': 'timeSeries',\n",
       " 'location': {'urn:ioos:station:wmo:46029': <shapely.geometry.point.Point at 0x7f79012c1550>},\n",
       " 'location_srs': urn:ogc:def:crs:EPSG::4326,\n",
       " 'observedProperties': ['http://mmisw.org/ont/cf/parameter/sea_water_temperature'],\n",
       " 'procedures': ['urn:ioos:station:wmo:46029'],\n",
       " 'results': <Element {http://www.opengis.net/om/1.0}result at 0x7f790f9c8320>}"
      ]
     },
     "execution_count": 27,
     "metadata": {},
     "output_type": "execute_result"
    }
   ],
   "source": [
    "# The feature object property is not populated, \n",
    "# so the time series data are not parsed and made available\n",
    "ncc=collector_ndbc_collect[0]\n",
    "vars(ncc)"
   ]
  },
  {
   "cell_type": "code",
   "execution_count": null,
   "metadata": {
    "collapsed": true
   },
   "outputs": [],
   "source": []
  }
 ],
 "metadata": {
  "kernelspec": {
   "display_name": "Python 2",
   "language": "python",
   "name": "python2"
  },
  "language_info": {
   "codemirror_mode": {
    "name": "ipython",
    "version": 2
   },
   "file_extension": ".py",
   "mimetype": "text/x-python",
   "name": "python",
   "nbconvert_exporter": "python",
   "pygments_lexer": "ipython2",
   "version": "2.7.10"
  }
 },
 "nbformat": 4,
 "nbformat_minor": 0
}
