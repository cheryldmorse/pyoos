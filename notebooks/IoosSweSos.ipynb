{
 "cells": [
  {
   "cell_type": "markdown",
   "metadata": {},
   "source": [
    "https://www.wakari.io/sharing/bundle/emayorga/pyoos_ioos_sos_demo1"
   ]
  },
  {
   "cell_type": "markdown",
   "metadata": {},
   "source": [
    "# Using Pyoos to access Axiom 52North IOOS SOS \"Stable Demo\"\n",
    "## Examine the offerings; then query, parse and examine a \"network offering\" (all stations)\n",
    "Use the same approach to access time series data from an ncSOS end point and a 52North IOOS SOS end point (the Axiom stable demo). ncSOS can only return one station in the response, while 52North SOS can return multiple stations when a network-offering request is made.  \n",
    "Emilio Mayorga, 2/12/2014   \n",
    "(2/20/2014: Updated bundled Wakari environment to pyoos 0.6)"
   ]
  },
  {
   "cell_type": "code",
   "execution_count": 1,
   "metadata": {
    "collapsed": false
   },
   "outputs": [],
   "source": [
    "from datetime import datetime, timedelta\n",
    "import pandas as pd\n",
    "from pyoos.collectors.ioos.swe_sos import IoosSweSos"
   ]
  },
  {
   "cell_type": "code",
   "execution_count": 2,
   "metadata": {
    "collapsed": false
   },
   "outputs": [],
   "source": [
    "# convenience function to build record style time series representation\n",
    "def flatten_element(p):\n",
    "    rd = {'time':p.time}\n",
    "    for m in p.members:\n",
    "        rd[m['standard']] = m['value']\n",
    "    return rd"
   ]
  },
  {
   "cell_type": "markdown",
   "metadata": {},
   "source": [
    "## 52N IOOS SOS Stable Demo -- network offering (multi-station) data request\n",
    "### Create pyoos \"collector\" that connects to the SOS end point and parses GetCapabilities (offerings)"
   ]
  },
  {
   "cell_type": "code",
   "execution_count": 3,
   "metadata": {
    "collapsed": false
   },
   "outputs": [],
   "source": [
    "url52n = 'http://ioossos.axiomalaska.com/52n-sos-ioos-stable/sos/kvp'\n",
    "collector52n = IoosSweSos(url52n)\n",
    "offerings52n = collector52n.server.offerings"
   ]
  },
  {
   "cell_type": "code",
   "execution_count": 4,
   "metadata": {
    "collapsed": false
   },
   "outputs": [
    {
     "data": {
      "text/plain": [
       "('urn_ioos_network_test_all',\n",
       " 'urn:ioos:network:test:all',\n",
       " datetime.datetime(2014, 2, 17, 2, 0, tzinfo=tzutc()),\n",
       " datetime.datetime(2014, 2, 17, 21, 0, tzinfo=tzutc()),\n",
       " ['http://mmisw.org/ont/cf/parameter/air_temperature',\n",
       "  'http://mmisw.org/ont/cf/parameter/sea_water_temperature'],\n",
       " ['urn:ioos:network:test:all'])"
      ]
     },
     "execution_count": 4,
     "metadata": {},
     "output_type": "execute_result"
    }
   ],
   "source": [
    "# Examine the first offering\n",
    "of0 = offerings52n[0]\n",
    "of0.id, of0.name, of0.begin_position, of0.end_position, of0.observed_properties, of0.procedures"
   ]
  },
  {
   "cell_type": "code",
   "execution_count": 5,
   "metadata": {
    "collapsed": false
   },
   "outputs": [
    {
     "data": {
      "text/plain": [
       "('urn_ioos_station_test_0',\n",
       " 'urn:ioos:station:test:0',\n",
       " datetime.datetime(2014, 2, 17, 2, 0, tzinfo=tzutc()),\n",
       " datetime.datetime(2014, 2, 17, 21, 0, tzinfo=tzutc()),\n",
       " ['http://mmisw.org/ont/cf/parameter/air_temperature',\n",
       "  'http://mmisw.org/ont/cf/parameter/sea_water_temperature'],\n",
       " ['urn:ioos:station:test:0'])"
      ]
     },
     "execution_count": 5,
     "metadata": {},
     "output_type": "execute_result"
    }
   ],
   "source": [
    "# Examine the second offering\n",
    "of1 = offerings52n[1]\n",
    "of1.id, of1.name, of1.begin_position, of1.end_position, of1.observed_properties, of1.procedures"
   ]
  },
  {
   "cell_type": "code",
   "execution_count": 6,
   "metadata": {
    "collapsed": false
   },
   "outputs": [
    {
     "data": {
      "text/plain": [
       "{'_root': <Element {http://www.opengis.net/sos/1.0}ObservationOffering at 0x49a2e10>,\n",
       " 'bbox': (-20.642194837840215,\n",
       "  79.51324884461542,\n",
       "  -20.642194837840215,\n",
       "  79.51324884461542),\n",
       " 'bbox_srs': <owslib.crs.Crs at 0x49b4210>,\n",
       " 'begin_position': datetime.datetime(2014, 2, 17, 2, 0, tzinfo=tzutc()),\n",
       " 'description': None,\n",
       " 'end_position': datetime.datetime(2014, 2, 17, 21, 0, tzinfo=tzutc()),\n",
       " 'features_of_interest': ['urn:ioos:station:test:0',\n",
       "  'urn:ioos:station:test:0(height-10.0m)',\n",
       "  'urn:ioos:station:test:0(height-15.0m)',\n",
       "  'urn:ioos:station:test:0(height-20.0m)',\n",
       "  'urn:ioos:station:test:0(height-25.0m)',\n",
       "  'urn:ioos:station:test:0(height-30.0m)',\n",
       "  'urn:ioos:station:test:0(height-35.0m)',\n",
       "  'urn:ioos:station:test:0(height-40.0m)',\n",
       "  'urn:ioos:station:test:0(height-45.0m)',\n",
       "  'urn:ioos:station:test:0(height-5.0m)',\n",
       "  'urn:ioos:station:test:0(height-50.0m)',\n",
       "  'urn:ioos:station:test:0(height-55.0m)',\n",
       "  'urn:ioos:station:test:0(height-60.0m)',\n",
       "  'urn:ioos:station:test:0(height-65.0m)',\n",
       "  'urn:ioos:station:test:0(height-70.0m)',\n",
       "  'urn:ioos:station:test:0(height-75.0m)',\n",
       "  'urn:ioos:station:test:0(height-80.0m)',\n",
       "  'urn:ioos:station:test:0(height-85.0m)',\n",
       "  'urn:ioos:station:test:0(height-90.0m)',\n",
       "  'urn:ioos:station:test:0(height-95.0m)',\n",
       "  'urn:ioos:station:test:0(height0.0m)'],\n",
       " 'id': 'urn_ioos_station_test_0',\n",
       " 'name': 'urn:ioos:station:test:0',\n",
       " 'observed_properties': ['http://mmisw.org/ont/cf/parameter/air_temperature',\n",
       "  'http://mmisw.org/ont/cf/parameter/sea_water_temperature'],\n",
       " 'procedures': ['urn:ioos:station:test:0'],\n",
       " 'response_formats': ['text/xml; subtype=\"om/1.0.0\"',\n",
       "  'text/xml; subtype=\"om/1.0.0/profiles/ioos_sos/1.0\"'],\n",
       " 'response_modes': ['inline', 'resultTemplate'],\n",
       " 'result_model': None}"
      ]
     },
     "execution_count": 6,
     "metadata": {},
     "output_type": "execute_result"
    }
   ],
   "source": [
    "vars(of1)"
   ]
  },
  {
   "cell_type": "markdown",
   "metadata": {},
   "source": [
    "### Set up request filters (selections), issue \"collect\" request (GetObservation -- get time series data), and examine the response"
   ]
  },
  {
   "cell_type": "code",
   "execution_count": 7,
   "metadata": {
    "collapsed": false
   },
   "outputs": [],
   "source": [
    "# Use the network:test:all offering to query across all stations\n",
    "# Set and apply filters, then \"collect\"\n",
    "collector52n.start_time = of0.begin_position\n",
    "collector52n.end_time   = of0.end_position\n",
    "#collector52n.variables=of0.observed_properties   # 2 obsprops, each of a different feature type\n",
    "# For now, query only the variable that returns timeSeries; pyoos can't handle timeSeriesProfile yet\n",
    "collector52n.variables=['http://mmisw.org/ont/cf/parameter/air_temperature']\n",
    "offeringname = ['urn:ioos:network:test:all']\n",
    "respfrmt = 'text/xml; subtype=\"om/1.0.0/profiles/ioos_sos/1.0\"'"
   ]
  },
  {
   "cell_type": "code",
   "execution_count": 8,
   "metadata": {
    "collapsed": false
   },
   "outputs": [
    {
     "data": {
      "text/plain": [
       "[<pyoos.parsers.ioos.one.get_observation.OmObservation at 0x4a67910>]"
      ]
     },
     "execution_count": 8,
     "metadata": {},
     "output_type": "execute_result"
    }
   ],
   "source": [
    "obs52n=collector52n.collect(offerings=offeringname, responseFormat=respfrmt)\n",
    "obs52n"
   ]
  },
  {
   "cell_type": "code",
   "execution_count": 9,
   "metadata": {
    "collapsed": false
   },
   "outputs": [
    {
     "name": "stdout",
     "output_type": "stream",
     "text": [
      "Station Object: <class 'paegan.cdm.dsg.collections.station_collection.StationCollection'>\n",
      "Feature Type: timeSeries\n",
      "Number of station in StationCollection: 10\n"
     ]
    },
    {
     "data": {
      "text/plain": [
       "{'urn:ioos:station:test:0': <paegan.cdm.dsg.features.station.Station at 0x4a81c10>,\n",
       " 'urn:ioos:station:test:1': <paegan.cdm.dsg.features.station.Station at 0x4b32b10>,\n",
       " 'urn:ioos:station:test:2': <paegan.cdm.dsg.features.station.Station at 0x4b32c50>,\n",
       " 'urn:ioos:station:test:3': <paegan.cdm.dsg.features.station.Station at 0x4b32d90>,\n",
       " 'urn:ioos:station:test:4': <paegan.cdm.dsg.features.station.Station at 0x4b32ed0>,\n",
       " 'urn:ioos:station:test:5': <paegan.cdm.dsg.features.station.Station at 0x4b32fd0>,\n",
       " 'urn:ioos:station:test:6': <paegan.cdm.dsg.features.station.Station at 0x4b34190>,\n",
       " 'urn:ioos:station:test:7': <paegan.cdm.dsg.features.station.Station at 0x4b342d0>,\n",
       " 'urn:ioos:station:test:8': <paegan.cdm.dsg.features.station.Station at 0x4b34410>,\n",
       " 'urn:ioos:station:test:9': <paegan.cdm.dsg.features.station.Station at 0x4b34550>}"
      ]
     },
     "execution_count": 9,
     "metadata": {},
     "output_type": "execute_result"
    }
   ],
   "source": [
    "# 'stations' should be a Paegan 'StationCollection' with list of Paegan 'Station' elements\n",
    "stations=obs52n[0].feature\n",
    "print 'Station Object:', type(stations)\n",
    "print 'Feature Type:', obs52n[0].feature_type\n",
    "print 'Number of station in StationCollection:', len(stations.elements)\n",
    "# stations returned in the network offering response\n",
    "stations.elements"
   ]
  },
  {
   "cell_type": "code",
   "execution_count": 10,
   "metadata": {
    "collapsed": false
   },
   "outputs": [
    {
     "data": {
      "text/plain": [
       "[{'name': 'air_temperature',\n",
       "  'standard': 'http://mmisw.org/ont/cf/parameter/air_temperature'}]"
      ]
     },
     "execution_count": 10,
     "metadata": {},
     "output_type": "execute_result"
    }
   ],
   "source": [
    "# Examine one station; list its unique observed properties (variables) \n",
    "station52n_0 = stations.elements['urn:ioos:station:test:0']\n",
    "station52n_0.get_unique_members()"
   ]
  },
  {
   "cell_type": "code",
   "execution_count": 11,
   "metadata": {
    "collapsed": false
   },
   "outputs": [
    {
     "data": {
      "text/plain": [
       "(datetime.datetime(2014, 2, 17, 3, 0, tzinfo=tzutc()),\n",
       " [{'name': 'air_temperature',\n",
       "   'standard': 'http://mmisw.org/ont/cf/parameter/air_temperature',\n",
       "   'units': 'urn:ogc:def:uom:udunits:2:Cel',\n",
       "   'value': 23.5}])"
      ]
     },
     "execution_count": 11,
     "metadata": {},
     "output_type": "execute_result"
    }
   ],
   "source": [
    "# List and show one data value element\n",
    "station52n_0.elements[0].time, station52n_0.elements[0].members"
   ]
  },
  {
   "cell_type": "code",
   "execution_count": 12,
   "metadata": {
    "collapsed": false
   },
   "outputs": [
    {
     "name": "stdout",
     "output_type": "stream",
     "text": [
      "urn:ogc:def:uom:udunits:2:Cel   |   Cel\n"
     ]
    }
   ],
   "source": [
    "# Extract and parse units string\n",
    "unitsraw = station52n_0.elements[0].members[0]['units']\n",
    "units = unitsraw.split(':')[-1]\n",
    "print unitsraw, '  |  ', units"
   ]
  },
  {
   "cell_type": "markdown",
   "metadata": {},
   "source": [
    "### Read time series data for two stations, ingest into Pandas DataFrames, then create plots"
   ]
  },
  {
   "cell_type": "code",
   "execution_count": 13,
   "metadata": {
    "collapsed": false
   },
   "outputs": [
    {
     "data": {
      "text/html": [
       "<div style=\"max-height:1000px;max-width:1500px;overflow:auto;\">\n",
       "<table border=\"1\" class=\"dataframe\">\n",
       "  <thead>\n",
       "    <tr style=\"text-align: right;\">\n",
       "      <th></th>\n",
       "      <th>http://mmisw.org/ont/cf/parameter/air_temperature</th>\n",
       "    </tr>\n",
       "    <tr>\n",
       "      <th>time</th>\n",
       "      <th></th>\n",
       "    </tr>\n",
       "  </thead>\n",
       "  <tbody>\n",
       "    <tr>\n",
       "      <th>2014-02-17 03:00:00+00:00</th>\n",
       "      <td> 23.50</td>\n",
       "    </tr>\n",
       "    <tr>\n",
       "      <th>2014-02-17 04:00:00+00:00</th>\n",
       "      <td>  7.32</td>\n",
       "    </tr>\n",
       "    <tr>\n",
       "      <th>2014-02-17 05:00:00+00:00</th>\n",
       "      <td> 11.29</td>\n",
       "    </tr>\n",
       "    <tr>\n",
       "      <th>2014-02-17 06:00:00+00:00</th>\n",
       "      <td> 31.62</td>\n",
       "    </tr>\n",
       "    <tr>\n",
       "      <th>2014-02-17 07:00:00+00:00</th>\n",
       "      <td> 30.92</td>\n",
       "    </tr>\n",
       "  </tbody>\n",
       "</table>\n",
       "</div>"
      ],
      "text/plain": [
       "                           http://mmisw.org/ont/cf/parameter/air_temperature\n",
       "time                                                                        \n",
       "2014-02-17 03:00:00+00:00                                              23.50\n",
       "2014-02-17 04:00:00+00:00                                               7.32\n",
       "2014-02-17 05:00:00+00:00                                              11.29\n",
       "2014-02-17 06:00:00+00:00                                              31.62\n",
       "2014-02-17 07:00:00+00:00                                              30.92"
      ]
     },
     "execution_count": 13,
     "metadata": {},
     "output_type": "execute_result"
    }
   ],
   "source": [
    "# First station\n",
    "flattened52n_0 = map(flatten_element, station52n_0.elements)\n",
    "n52n_0df=pd.DataFrame.from_records(flattened52n_0, index=['time'])\n",
    "n52n_0df.head()"
   ]
  },
  {
   "cell_type": "code",
   "execution_count": 14,
   "metadata": {
    "collapsed": false
   },
   "outputs": [],
   "source": [
    "# A second station\n",
    "station52n_5 = stations.elements['urn:ioos:station:test:5']\n",
    "flattened52n_5 = map(flatten_element, station52n_5.elements)\n",
    "n52n_5df=pd.DataFrame.from_records(flattened52n_5, index=['time'])"
   ]
  },
  {
   "cell_type": "code",
   "execution_count": 15,
   "metadata": {
    "collapsed": false
   },
   "outputs": [
    {
     "data": {
      "image/png": "[encoded data removed]",
      "text/plain": [
       "<matplotlib.figure.Figure at 0x4b34590>"
      ]
     },
     "metadata": {},
     "output_type": "display_data"
    }
   ],
   "source": [
    "# Plot data from first station using plot method on DataFrame\n",
    "# Note the datetime x-axis labels are much nicer here (pandas) \n",
    "# than on the next plot (bare matplotlib)\n",
    "n52n_0df.plot(figsize(12,5))\n",
    "ylabel(units);"
   ]
  },
  {
   "cell_type": "code",
   "execution_count": 16,
   "metadata": {
    "collapsed": false
   },
   "outputs": [
    {
     "data": {
      "image/png": "[encoded data removed]",
      "text/plain": [
       "<matplotlib.figure.Figure at 0x4b530d0>"
      ]
     },
     "metadata": {},
     "output_type": "display_data"
    }
   ],
   "source": [
    "# Joint plot of time series from two stations in the network response, using matplotlib\n",
    "op = n52n_0df.columns[0]\n",
    "plot(n52n_0df.index, n52n_0df[op], '-b',\n",
    "     n52n_5df.index, n52n_5df[op], '-r')\n",
    "ylabel(units)\n",
    "legend([station52n_0.uid, station52n_5.uid]);"
   ]
  }
 ],
 "metadata": {
  "kernelspec": {
   "display_name": "Python 2",
   "language": "python",
   "name": "python2"
  },
  "language_info": {
   "codemirror_mode": {
    "name": "ipython",
    "version": 2
   },
   "file_extension": ".py",
   "mimetype": "text/x-python",
   "name": "python",
   "nbconvert_exporter": "python",
   "pygments_lexer": "ipython2",
   "version": "2.7.10"
  }
 },
 "nbformat": 4,
 "nbformat_minor": 0
}
