{
 "cells": [
  {
   "cell_type": "markdown",
   "metadata": {},
   "source": [
    "https://gist.github.com/emiliom/35db17392c5d652faeb2"
   ]
  },
  {
   "cell_type": "markdown",
   "metadata": {},
   "source": [
    "## Accessing a \"NERRS\" station with Pyoos via its [HADS Collector](https://github.com/ioos/pyoos/tree/master/pyoos/collectors/hads), not the CDMO\n",
    "Currently it only illustrates a request for a station (\"feature\") given its known station_code (nesdis_id); no other type of collection query is illustrated. Then, it shows access to data from the specified station; extraction of station metadata; and conversion of the returned multi-variable time series to a pandas DataFrame, followed by a time series plot from the DataFrame. 2014 June 18. Emilio Mayorga."
   ]
  },
  {
   "cell_type": "code",
   "execution_count": 1,
   "metadata": {
    "collapsed": false
   },
   "outputs": [
    {
     "name": "stderr",
     "output_type": "stream",
     "text": [
      "/usr/anaconda/anaconda/envs/ioos_em_13/lib/python2.7/site-packages/pandas/io/excel.py:626: UserWarning: Installed openpyxl is not supported at this time. Use >=1.6.1 and <2.0.0.\n",
      "  .format(openpyxl_compat.start_ver, openpyxl_compat.stop_ver))\n"
     ]
    }
   ],
   "source": [
    "from datetime import datetime, timedelta\n",
    "import numpy as np\n",
    "import pandas as pd\n",
    "from pyoos.collectors.hads.hads import Hads"
   ]
  },
  {
   "cell_type": "code",
   "execution_count": 2,
   "metadata": {
    "collapsed": false
   },
   "outputs": [],
   "source": [
    "# FROM pyoos SOS handling\n",
    "# Convenience function to build record style time series representation\n",
    "# Test for string NaN added for HADS collector. Ideally the change should be\n",
    "# made in pyoos, on the HADS parser so 'values' returns floats or np.nan\n",
    "def flatten_element(p):\n",
    "    rd = {'time':p.time}\n",
    "    for m in p.members:\n",
    "        rd[m['standard']] = float(m['value']) if m['value'] != 'NaN' else np.nan\n",
    "        #rd[m['standard']] = m['value']\n",
    "    return rd\n",
    "\n",
    "# sta.get_unique_members() serves the same function as the pyoos SOS get_unique_members method\n",
    "# Convenience function to extract a dict of unique members (observed properties) by standard name\n",
    "obsprops_bystdname = lambda sta: {m['standard']:m for m in sta.get_unique_members()}"
   ]
  },
  {
   "cell_type": "code",
   "execution_count": 3,
   "metadata": {
    "collapsed": false
   },
   "outputs": [],
   "source": [
    "# Not used, for now\n",
    "#states_url = \"http://amazon.nws.noaa.gov/hads/charts/OR.html\""
   ]
  },
  {
   "cell_type": "code",
   "execution_count": 4,
   "metadata": {
    "collapsed": false
   },
   "outputs": [],
   "source": [
    "hadsData = Hads()"
   ]
  },
  {
   "cell_type": "code",
   "execution_count": 5,
   "metadata": {
    "collapsed": false
   },
   "outputs": [],
   "source": [
    "# Access South Slough North Spit station, for the last 2 days (roughly)\n",
    "#hadsData.filter(features=['346F229A'],\n",
    "#                  start=datetime.utcnow() - timedelta(days=2),\n",
    "#                  end=datetime.utcnow()  - timedelta(hours=12))"
   ]
  },
  {
   "cell_type": "code",
   "execution_count": 6,
   "metadata": {
    "collapsed": false
   },
   "outputs": [
    {
     "data": {
      "text/plain": [
       "<pyoos.collectors.hads.hads.Hads at 0x7faa10051d10>"
      ]
     },
     "execution_count": 6,
     "metadata": {},
     "output_type": "execute_result"
    }
   ],
   "source": [
    "#hadsData.filter(features=['346F229A'], states_url=states_url)\n",
    "#hadsData.filter(states_url=states_url)\n",
    "# NOT CLEAR YET IF THIS FILTER IF ALSO NEEDED, \n",
    "# OR IF SETTING hadsData.station_codes IS ENOUGH\n",
    "hadsData.filter(features=['346F229A'])"
   ]
  },
  {
   "cell_type": "code",
   "execution_count": 7,
   "metadata": {
    "collapsed": false
   },
   "outputs": [],
   "source": [
    "hadsData.station_codes = ['346F229A']"
   ]
  },
  {
   "cell_type": "code",
   "execution_count": 8,
   "metadata": {
    "collapsed": false
   },
   "outputs": [
    {
     "data": {
      "text/plain": [
       "('http://amazon.nws.noaa.gov/nexhads2/servlet/DCPInfo',\n",
       " 'http://amazon.nws.noaa.gov/nexhads2/servlet/DecodedData',\n",
       " 'http://amazon.nws.noaa.gov/hads/goog_earth/')"
      ]
     },
     "execution_count": 8,
     "metadata": {},
     "output_type": "execute_result"
    }
   ],
   "source": [
    "hadsData.metadata_url, hadsData.obs_retrieval_url, hadsData.states_url"
   ]
  },
  {
   "cell_type": "code",
   "execution_count": 9,
   "metadata": {
    "collapsed": false
   },
   "outputs": [],
   "source": [
    "respCollect = hadsData.collect()"
   ]
  },
  {
   "cell_type": "code",
   "execution_count": 10,
   "metadata": {
    "collapsed": false
   },
   "outputs": [
    {
     "data": {
      "text/plain": [
       "1"
      ]
     },
     "execution_count": 10,
     "metadata": {},
     "output_type": "execute_result"
    }
   ],
   "source": [
    "len(respCollect.elements)"
   ]
  },
  {
   "cell_type": "code",
   "execution_count": 11,
   "metadata": {
    "collapsed": false
   },
   "outputs": [],
   "source": [
    "sta = respCollect.elements[0]\n",
    "obsprops_bystdname_dict = obsprops_bystdname(sta)"
   ]
  },
  {
   "cell_type": "code",
   "execution_count": 12,
   "metadata": {
    "collapsed": false
   },
   "outputs": [
    {
     "name": "stdout",
     "output_type": "stream",
     "text": [
      "POINT Z (-123.7211111111111 43.41388888888889 0)\n"
     ]
    },
    {
     "data": {
      "text/plain": [
       "{'channel': u'34  ',\n",
       " 'country': 'USA',\n",
       " 'horizontal_crs': 'EPSG:4326',\n",
       " 'hsa': u'MFR',\n",
       " 'init_transmit': u'000930',\n",
       " 'location_description': u'NERRS WATER QUALITY SITE AT SOUTH SLOUGH NORTH SPIT NEAR NORTH BEND 2WNW (CTCLUSI)',\n",
       " 'manufacturer': u'SU',\n",
       " 'owner': u'NOAERD',\n",
       " 'state': u'OR',\n",
       " 'vertical_crs': None,\n",
       " 'vertical_units': 'ft'}"
      ]
     },
     "execution_count": 12,
     "metadata": {},
     "output_type": "execute_result"
    }
   ],
   "source": [
    "print sta.get_location()\n",
    "sta._properties"
   ]
  },
  {
   "cell_type": "code",
   "execution_count": 13,
   "metadata": {
    "collapsed": false
   },
   "outputs": [
    {
     "data": {
      "text/plain": [
       "(['sea_water_temperature',\n",
       "  'dissolved_oxygen_saturation',\n",
       "  'water_level',\n",
       "  'dissolved_oxygen',\n",
       "  'battery_voltage',\n",
       "  'salinity',\n",
       "  'sea_water_ph_reported_on_total_scale',\n",
       "  'sea_water_electrical_conductivity',\n",
       "  'turbidity'],\n",
       " {'description': '',\n",
       "  'name': 'Dissolved Oxygen',\n",
       "  'standard': 'dissolved_oxygen',\n",
       "  'unit': 'ppm'})"
      ]
     },
     "execution_count": 13,
     "metadata": {},
     "output_type": "execute_result"
    }
   ],
   "source": [
    "obsprops_bystdname_dict.keys(), obsprops_bystdname_dict['dissolved_oxygen']"
   ]
  },
  {
   "cell_type": "code",
   "execution_count": 14,
   "metadata": {
    "collapsed": false
   },
   "outputs": [
    {
     "data": {
      "text/html": [
       "<div style=\"max-height:1000px;max-width:1500px;overflow:auto;\">\n",
       "<table border=\"1\" class=\"dataframe\">\n",
       "  <thead>\n",
       "    <tr style=\"text-align: right;\">\n",
       "      <th></th>\n",
       "      <th>battery_voltage</th>\n",
       "      <th>dissolved_oxygen</th>\n",
       "      <th>dissolved_oxygen_saturation</th>\n",
       "      <th>salinity</th>\n",
       "      <th>sea_water_electrical_conductivity</th>\n",
       "      <th>sea_water_ph_reported_on_total_scale</th>\n",
       "      <th>sea_water_temperature</th>\n",
       "      <th>turbidity</th>\n",
       "      <th>water_level</th>\n",
       "    </tr>\n",
       "    <tr>\n",
       "      <th>time</th>\n",
       "      <th></th>\n",
       "      <th></th>\n",
       "      <th></th>\n",
       "      <th></th>\n",
       "      <th></th>\n",
       "      <th></th>\n",
       "      <th></th>\n",
       "      <th></th>\n",
       "      <th></th>\n",
       "    </tr>\n",
       "  </thead>\n",
       "  <tbody>\n",
       "    <tr>\n",
       "      <th>2014-06-11 01:15:00</th>\n",
       "      <td>  NaN</td>\n",
       "      <td>  NaN</td>\n",
       "      <td>  NaN</td>\n",
       "      <td>   NaN</td>\n",
       "      <td>   NaN</td>\n",
       "      <td>  NaN</td>\n",
       "      <td>   NaN</td>\n",
       "      <td> NaN</td>\n",
       "      <td> 13.39</td>\n",
       "    </tr>\n",
       "    <tr>\n",
       "      <th>2014-06-11 01:30:00</th>\n",
       "      <td> 13.9</td>\n",
       "      <td> 8.33</td>\n",
       "      <td> 97.1</td>\n",
       "      <td> 29.63</td>\n",
       "      <td> 45.72</td>\n",
       "      <td> 7.66</td>\n",
       "      <td> 57.18</td>\n",
       "      <td> 2.2</td>\n",
       "      <td> 13.62</td>\n",
       "    </tr>\n",
       "    <tr>\n",
       "      <th>2014-06-11 01:45:00</th>\n",
       "      <td> 13.9</td>\n",
       "      <td> 8.45</td>\n",
       "      <td> 98.8</td>\n",
       "      <td> 29.43</td>\n",
       "      <td> 45.43</td>\n",
       "      <td> 7.71</td>\n",
       "      <td> 57.61</td>\n",
       "      <td> 2.5</td>\n",
       "      <td> 13.91</td>\n",
       "    </tr>\n",
       "    <tr>\n",
       "      <th>2014-06-11 02:00:00</th>\n",
       "      <td> 13.9</td>\n",
       "      <td> 8.31</td>\n",
       "      <td> 96.4</td>\n",
       "      <td> 29.83</td>\n",
       "      <td> 46.01</td>\n",
       "      <td> 7.70</td>\n",
       "      <td> 56.71</td>\n",
       "      <td> 3.0</td>\n",
       "      <td> 14.24</td>\n",
       "    </tr>\n",
       "    <tr>\n",
       "      <th>2014-06-11 02:15:00</th>\n",
       "      <td> 13.8</td>\n",
       "      <td> 8.48</td>\n",
       "      <td> 98.1</td>\n",
       "      <td> 30.07</td>\n",
       "      <td> 46.35</td>\n",
       "      <td> 7.73</td>\n",
       "      <td> 56.30</td>\n",
       "      <td> 3.4</td>\n",
       "      <td> 14.53</td>\n",
       "    </tr>\n",
       "  </tbody>\n",
       "</table>\n",
       "</div>"
      ],
      "text/plain": [
       "                     battery_voltage  dissolved_oxygen  \\\n",
       "time                                                     \n",
       "2014-06-11 01:15:00              NaN               NaN   \n",
       "2014-06-11 01:30:00             13.9              8.33   \n",
       "2014-06-11 01:45:00             13.9              8.45   \n",
       "2014-06-11 02:00:00             13.9              8.31   \n",
       "2014-06-11 02:15:00             13.8              8.48   \n",
       "\n",
       "                     dissolved_oxygen_saturation  salinity  \\\n",
       "time                                                         \n",
       "2014-06-11 01:15:00                          NaN       NaN   \n",
       "2014-06-11 01:30:00                         97.1     29.63   \n",
       "2014-06-11 01:45:00                         98.8     29.43   \n",
       "2014-06-11 02:00:00                         96.4     29.83   \n",
       "2014-06-11 02:15:00                         98.1     30.07   \n",
       "\n",
       "                     sea_water_electrical_conductivity  \\\n",
       "time                                                     \n",
       "2014-06-11 01:15:00                                NaN   \n",
       "2014-06-11 01:30:00                              45.72   \n",
       "2014-06-11 01:45:00                              45.43   \n",
       "2014-06-11 02:00:00                              46.01   \n",
       "2014-06-11 02:15:00                              46.35   \n",
       "\n",
       "                     sea_water_ph_reported_on_total_scale  \\\n",
       "time                                                        \n",
       "2014-06-11 01:15:00                                   NaN   \n",
       "2014-06-11 01:30:00                                  7.66   \n",
       "2014-06-11 01:45:00                                  7.71   \n",
       "2014-06-11 02:00:00                                  7.70   \n",
       "2014-06-11 02:15:00                                  7.73   \n",
       "\n",
       "                     sea_water_temperature  turbidity  water_level  \n",
       "time                                                                \n",
       "2014-06-11 01:15:00                    NaN        NaN        13.39  \n",
       "2014-06-11 01:30:00                  57.18        2.2        13.62  \n",
       "2014-06-11 01:45:00                  57.61        2.5        13.91  \n",
       "2014-06-11 02:00:00                  56.71        3.0        14.24  \n",
       "2014-06-11 02:15:00                  56.30        3.4        14.53  "
      ]
     },
     "execution_count": 14,
     "metadata": {},
     "output_type": "execute_result"
    }
   ],
   "source": [
    "flattenedsta_0 = map(flatten_element, sta.elements)\n",
    "sta_0df = pd.DataFrame.from_records(flattenedsta_0, index=['time'])\n",
    "sta_0df.head()"
   ]
  },
  {
   "cell_type": "code",
   "execution_count": 15,
   "metadata": {
    "collapsed": false
   },
   "outputs": [],
   "source": [
    "#hadsData._get_metadata(['346F229A'])\n",
    "# ---------------------------------\n",
    "#respMeta, respRawdata = hadsData.raw()\n",
    "#respMeta\n",
    "#Out[]: u'|346F229A|SSNO3|NERRS WATER QUALITY SITE AT SOUTH SLOUGH NORTH SPIT NEAR NORTH BEND 2WNW (CTCLUSI)|43 24 50|-124 16 44|MFR|OR|NOAERD|SU|34  |000930|60|TW|15,-9|0.018,-9|32.0|9|0.0|0.0|WC|15,-9|0.01,-9|0.0|9|0.0|0.0|WS|15,-9|0.01,-9|0.0|9|0.0|0.0|WX|15,-9|0.01,-9|0.0|9|0.0|0.0|WO|15,-9|0.01,-9|0.0|9|0.0|0.0|HM|15,-9|0.03281,-9|0.0|9|0.0|0.0|WP|15,-9|0.01,-9|0.0|9|0.0|0.0|WT|15,-9|0.01,-9|0.0|9|0.0|0.0|VB|15,-9|0.01,-9|0.0|9|0.0|0.0|\\r\\n'"
   ]
  },
  {
   "cell_type": "code",
   "execution_count": 16,
   "metadata": {
    "collapsed": false
   },
   "outputs": [],
   "source": [
    "# Time series plot.\n",
    "obsprop_name = 'sea_water_temperature'\n",
    "obsprop = obsprops_bystdname_dict[obsprop_name]\n",
    "#sta_0df[obsprop_name].plot()\n",
    "#ylabel(obsprop_name + ' ('+obsprop['unit']+')');\n",
    "# THE VARIABLE COLUMNS ARE NOT NUMERIC (PROBABLY DUE TO THE 'NaN' values),\n",
    "# SO .plot() RETURNS AN ERROR.\n",
    "# 6/18/2014. I've fixed flatten_elements() to handle this, and it now works!"
   ]
  },
  {
   "cell_type": "code",
   "execution_count": 17,
   "metadata": {
    "collapsed": false
   },
   "outputs": [
    {
     "data": {
      "text/plain": [
       "(732, 9)"
      ]
     },
     "execution_count": 17,
     "metadata": {},
     "output_type": "execute_result"
    }
   ],
   "source": [
    "sta_0df.shape"
   ]
  },
  {
   "cell_type": "code",
   "execution_count": 18,
   "metadata": {
    "collapsed": false
   },
   "outputs": [
    {
     "data": {
      "text/plain": [
       "battery_voltage                         float64\n",
       "dissolved_oxygen                        float64\n",
       "dissolved_oxygen_saturation             float64\n",
       "salinity                                float64\n",
       "sea_water_electrical_conductivity       float64\n",
       "sea_water_ph_reported_on_total_scale    float64\n",
       "sea_water_temperature                   float64\n",
       "turbidity                               float64\n",
       "water_level                             float64\n",
       "dtype: object"
      ]
     },
     "execution_count": 18,
     "metadata": {},
     "output_type": "execute_result"
    }
   ],
   "source": [
    "sta_0df.dtypes"
   ]
  },
  {
   "cell_type": "code",
   "execution_count": 19,
   "metadata": {
    "collapsed": false
   },
   "outputs": [
    {
     "data": {
      "text/html": [
       "<div style=\"max-height:1000px;max-width:1500px;overflow:auto;\">\n",
       "<table border=\"1\" class=\"dataframe\">\n",
       "  <thead>\n",
       "    <tr style=\"text-align: right;\">\n",
       "      <th></th>\n",
       "      <th>battery_voltage</th>\n",
       "      <th>dissolved_oxygen</th>\n",
       "      <th>dissolved_oxygen_saturation</th>\n",
       "      <th>salinity</th>\n",
       "      <th>sea_water_electrical_conductivity</th>\n",
       "      <th>sea_water_ph_reported_on_total_scale</th>\n",
       "      <th>sea_water_temperature</th>\n",
       "      <th>turbidity</th>\n",
       "      <th>water_level</th>\n",
       "    </tr>\n",
       "    <tr>\n",
       "      <th>time</th>\n",
       "      <th></th>\n",
       "      <th></th>\n",
       "      <th></th>\n",
       "      <th></th>\n",
       "      <th></th>\n",
       "      <th></th>\n",
       "      <th></th>\n",
       "      <th></th>\n",
       "      <th></th>\n",
       "    </tr>\n",
       "  </thead>\n",
       "  <tbody>\n",
       "    <tr>\n",
       "      <th>2014-06-18 15:00:00</th>\n",
       "      <td> 13.8</td>\n",
       "      <td> 9.41</td>\n",
       "      <td> 108.7</td>\n",
       "      <td> 30.92</td>\n",
       "      <td> 47.53</td>\n",
       "      <td> 7.82</td>\n",
       "      <td> 55.76</td>\n",
       "      <td> 4.0</td>\n",
       "      <td> 14.08</td>\n",
       "    </tr>\n",
       "    <tr>\n",
       "      <th>2014-06-18 15:15:00</th>\n",
       "      <td> 14.4</td>\n",
       "      <td> 8.92</td>\n",
       "      <td> 104.1</td>\n",
       "      <td> 30.16</td>\n",
       "      <td> 46.46</td>\n",
       "      <td> 7.77</td>\n",
       "      <td> 57.02</td>\n",
       "      <td> 3.2</td>\n",
       "      <td> 13.62</td>\n",
       "    </tr>\n",
       "    <tr>\n",
       "      <th>2014-06-18 15:30:00</th>\n",
       "      <td> 14.5</td>\n",
       "      <td> 8.83</td>\n",
       "      <td> 103.2</td>\n",
       "      <td> 30.03</td>\n",
       "      <td> 46.27</td>\n",
       "      <td> 7.74</td>\n",
       "      <td> 57.27</td>\n",
       "      <td> 3.6</td>\n",
       "      <td> 13.22</td>\n",
       "    </tr>\n",
       "    <tr>\n",
       "      <th>2014-06-18 15:45:00</th>\n",
       "      <td> 13.8</td>\n",
       "      <td> 8.74</td>\n",
       "      <td> 102.4</td>\n",
       "      <td> 29.95</td>\n",
       "      <td> 46.16</td>\n",
       "      <td> 7.75</td>\n",
       "      <td> 57.47</td>\n",
       "      <td> 2.4</td>\n",
       "      <td> 12.80</td>\n",
       "    </tr>\n",
       "    <tr>\n",
       "      <th>2014-06-18 16:00:00</th>\n",
       "      <td> 13.8</td>\n",
       "      <td> 8.76</td>\n",
       "      <td> 102.7</td>\n",
       "      <td> 29.93</td>\n",
       "      <td> 46.13</td>\n",
       "      <td> 7.74</td>\n",
       "      <td> 57.56</td>\n",
       "      <td> 3.0</td>\n",
       "      <td> 12.30</td>\n",
       "    </tr>\n",
       "  </tbody>\n",
       "</table>\n",
       "</div>"
      ],
      "text/plain": [
       "                     battery_voltage  dissolved_oxygen  \\\n",
       "time                                                     \n",
       "2014-06-18 15:00:00             13.8              9.41   \n",
       "2014-06-18 15:15:00             14.4              8.92   \n",
       "2014-06-18 15:30:00             14.5              8.83   \n",
       "2014-06-18 15:45:00             13.8              8.74   \n",
       "2014-06-18 16:00:00             13.8              8.76   \n",
       "\n",
       "                     dissolved_oxygen_saturation  salinity  \\\n",
       "time                                                         \n",
       "2014-06-18 15:00:00                        108.7     30.92   \n",
       "2014-06-18 15:15:00                        104.1     30.16   \n",
       "2014-06-18 15:30:00                        103.2     30.03   \n",
       "2014-06-18 15:45:00                        102.4     29.95   \n",
       "2014-06-18 16:00:00                        102.7     29.93   \n",
       "\n",
       "                     sea_water_electrical_conductivity  \\\n",
       "time                                                     \n",
       "2014-06-18 15:00:00                              47.53   \n",
       "2014-06-18 15:15:00                              46.46   \n",
       "2014-06-18 15:30:00                              46.27   \n",
       "2014-06-18 15:45:00                              46.16   \n",
       "2014-06-18 16:00:00                              46.13   \n",
       "\n",
       "                     sea_water_ph_reported_on_total_scale  \\\n",
       "time                                                        \n",
       "2014-06-18 15:00:00                                  7.82   \n",
       "2014-06-18 15:15:00                                  7.77   \n",
       "2014-06-18 15:30:00                                  7.74   \n",
       "2014-06-18 15:45:00                                  7.75   \n",
       "2014-06-18 16:00:00                                  7.74   \n",
       "\n",
       "                     sea_water_temperature  turbidity  water_level  \n",
       "time                                                                \n",
       "2014-06-18 15:00:00                  55.76        4.0        14.08  \n",
       "2014-06-18 15:15:00                  57.02        3.2        13.62  \n",
       "2014-06-18 15:30:00                  57.27        3.6        13.22  \n",
       "2014-06-18 15:45:00                  57.47        2.4        12.80  \n",
       "2014-06-18 16:00:00                  57.56        3.0        12.30  "
      ]
     },
     "execution_count": 19,
     "metadata": {},
     "output_type": "execute_result"
    }
   ],
   "source": [
    "sta_0df.tail()"
   ]
  },
  {
   "cell_type": "code",
   "execution_count": 20,
   "metadata": {
    "collapsed": false
   },
   "outputs": [
    {
     "data": {
      "text/plain": [
       "(732, paegan.cdm.dsg.features.base.point.Point)"
      ]
     },
     "execution_count": 20,
     "metadata": {},
     "output_type": "execute_result"
    }
   ],
   "source": [
    "len(sta.elements), type(sta.elements[0])"
   ]
  },
  {
   "cell_type": "code",
   "execution_count": 21,
   "metadata": {
    "collapsed": false
   },
   "outputs": [
    {
     "data": {
      "text/plain": [
       "[{'description': '',\n",
       "  'name': 'Water Level',\n",
       "  'standard': 'water_level',\n",
       "  'unit': 'ft',\n",
       "  'value': u'13.39'}]"
      ]
     },
     "execution_count": 21,
     "metadata": {},
     "output_type": "execute_result"
    }
   ],
   "source": [
    "stael0 = sta.elements[0]\n",
    "stael0.members"
   ]
  },
  {
   "cell_type": "code",
   "execution_count": 22,
   "metadata": {
    "collapsed": false
   },
   "outputs": [
    {
     "data": {
      "image/png": "[encoded data removed]",
      "text/plain": [
       "<matplotlib.figure.Figure at 0x7faa09530a50>"
      ]
     },
     "metadata": {},
     "output_type": "display_data"
    }
   ],
   "source": [
    "sta_0df[obsprop_name].plot()\n",
    "ylabel(obsprop_name + ' ('+obsprop['unit']+')');"
   ]
  }
 ],
 "metadata": {
  "kernelspec": {
   "display_name": "Python 2",
   "language": "python",
   "name": "python2"
  },
  "language_info": {
   "codemirror_mode": {
    "name": "ipython",
    "version": 2
   },
   "file_extension": ".py",
   "mimetype": "text/x-python",
   "name": "python",
   "nbconvert_exporter": "python",
   "pygments_lexer": "ipython2",
   "version": "2.7.10"
  }
 },
 "nbformat": 4,
 "nbformat_minor": 0
}
