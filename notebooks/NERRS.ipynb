{
 "cells": [
  {
   "cell_type": "markdown",
   "metadata": {},
   "source": [
    "https://gist.github.com/emiliom/57e84aee123ca60c4fa3"
   ]
  },
  {
   "cell_type": "markdown",
   "metadata": {},
   "source": [
    "## Accessing a NERRS station with Pyoos, via CDMO SOAP web services\n",
    "Illustrates querying all stations (\"features\") from a NERRS Reserve site; access to data from a NERRS station (specified by its station code); extraction of station metadata; and conversion of the returned multi-variable time series to a pandas DataFrame, followed by a time series plot from the DataFrame. Builds off the work from Dan Ramage (SECOORA), whose code is listed in the last cell, at the end. _Note that this is running from a pyoos fork with some small but key changes to the nerrs collector._ 2014 May 8-10. Emilio Mayorga."
   ]
  },
  {
   "cell_type": "code",
   "execution_count": 1,
   "metadata": {
    "collapsed": false
   },
   "outputs": [],
   "source": [
    "from datetime import datetime, timedelta\n",
    "import pandas as pd\n",
    "from pyoos.collectors.nerrs.nerrs_soap import NerrsSoap"
   ]
  },
  {
   "cell_type": "code",
   "execution_count": 2,
   "metadata": {
    "collapsed": false
   },
   "outputs": [],
   "source": [
    "# FROM pyoos SOS handling\n",
    "# Convenience function to build record style time series representation\n",
    "def flatten_element(p):\n",
    "    rd = {'time':p.time}\n",
    "    for m in p.members:\n",
    "        rd[m['standard']] = m['value']\n",
    "    return rd\n",
    "\n",
    "# sta.get_unique_members() serves the same function as the pyoos SOS get_unique_members method\n",
    "# Convenience function to extract a dict of unique members (observed properties) by standard name\n",
    "obsprops_bystdname = lambda sta: {m['standard']:m for m in sta.get_unique_members()}"
   ]
  },
  {
   "cell_type": "markdown",
   "metadata": {},
   "source": [
    "### First here's a very compact set of statements to get and plot the data for a station. No exploratory side trips."
   ]
  },
  {
   "cell_type": "markdown",
   "metadata": {},
   "source": [
    "**NOTE:** I manually removed (commented out) the NERRS/CDMO access token after running this notebook, before uploading notebook to my github gist. *Replace 'TOKEN STRING' with a [token obtained from the NERRS/CDMO office](http://nerrsdata.org/contact.cfm)*"
   ]
  },
  {
   "cell_type": "code",
   "execution_count": 3,
   "metadata": {
    "collapsed": false
   },
   "outputs": [],
   "source": [
    "# NERRS/CDMO access token.\n",
    "accesstoken = 'TOKEN STRING'\n",
    "\n",
    "# Initialize pyoos NERRS collector object\n",
    "nerrsData = NerrsSoap()"
   ]
  },
  {
   "cell_type": "code",
   "execution_count": 4,
   "metadata": {
    "collapsed": false
   },
   "outputs": [],
   "source": [
    "# Access pdbpfmet station, for the last 7 days (roughly)\n",
    "nerrsData.filter(features=['pdbpfmet'],\n",
    "                  start=datetime.utcnow() - timedelta(days=7),\n",
    "                  end=datetime.utcnow()  - timedelta(hours=12))\n",
    "\n",
    "response = nerrsData.collect(accesstoken)"
   ]
  },
  {
   "cell_type": "code",
   "execution_count": 5,
   "metadata": {
    "collapsed": false
   },
   "outputs": [],
   "source": [
    "sta = response.elements[0]\n",
    "obsprops_bystdname_dict = obsprops_bystdname(sta)"
   ]
  },
  {
   "cell_type": "code",
   "execution_count": 6,
   "metadata": {
    "collapsed": false
   },
   "outputs": [
    {
     "data": {
      "text/html": [
       "<div style=\"max-height:1000px;max-width:1500px;overflow:auto;\">\n",
       "<table border=\"1\" class=\"dataframe\">\n",
       "  <thead>\n",
       "    <tr style=\"text-align: right;\">\n",
       "      <th></th>\n",
       "      <th>air_pressure</th>\n",
       "      <th>air_temperature</th>\n",
       "      <th>cumulative_precipitation</th>\n",
       "      <th>relative_humidity</th>\n",
       "      <th>total_par_LiCor</th>\n",
       "      <th>total_precipitation</th>\n",
       "      <th>wind_direction_from_true_north</th>\n",
       "      <th>wind_direction_standard_deviation</th>\n",
       "      <th>wind_sped</th>\n",
       "      <th>wind_speed_of_gust</th>\n",
       "    </tr>\n",
       "    <tr>\n",
       "      <th>time</th>\n",
       "      <th></th>\n",
       "      <th></th>\n",
       "      <th></th>\n",
       "      <th></th>\n",
       "      <th></th>\n",
       "      <th></th>\n",
       "      <th></th>\n",
       "      <th></th>\n",
       "      <th></th>\n",
       "      <th></th>\n",
       "    </tr>\n",
       "  </thead>\n",
       "  <tbody>\n",
       "    <tr>\n",
       "      <th>2014-05-10 19:30:00+00:00</th>\n",
       "      <td> 1021</td>\n",
       "      <td> 12.1</td>\n",
       "      <td> 0</td>\n",
       "      <td> 81</td>\n",
       "      <td> 651</td>\n",
       "      <td> 0</td>\n",
       "      <td> 212</td>\n",
       "      <td> 22</td>\n",
       "      <td> 1.8</td>\n",
       "      <td> 3.1</td>\n",
       "    </tr>\n",
       "    <tr>\n",
       "      <th>2014-05-10 19:15:00+00:00</th>\n",
       "      <td> 1021</td>\n",
       "      <td> 11.6</td>\n",
       "      <td> 0</td>\n",
       "      <td> 83</td>\n",
       "      <td> 462</td>\n",
       "      <td> 0</td>\n",
       "      <td> 192</td>\n",
       "      <td> 17</td>\n",
       "      <td> 2.0</td>\n",
       "      <td> 3.7</td>\n",
       "    </tr>\n",
       "    <tr>\n",
       "      <th>2014-05-10 19:00:00+00:00</th>\n",
       "      <td> 1021</td>\n",
       "      <td> 11.4</td>\n",
       "      <td> 0</td>\n",
       "      <td> 83</td>\n",
       "      <td> 394</td>\n",
       "      <td> 0</td>\n",
       "      <td> 189</td>\n",
       "      <td> 12</td>\n",
       "      <td> 2.2</td>\n",
       "      <td> 4.1</td>\n",
       "    </tr>\n",
       "    <tr>\n",
       "      <th>2014-05-10 18:45:00+00:00</th>\n",
       "      <td> 1021</td>\n",
       "      <td> 11.4</td>\n",
       "      <td> 0</td>\n",
       "      <td> 84</td>\n",
       "      <td> 451</td>\n",
       "      <td> 0</td>\n",
       "      <td> 193</td>\n",
       "      <td> 14</td>\n",
       "      <td> 2.0</td>\n",
       "      <td> 3.8</td>\n",
       "    </tr>\n",
       "    <tr>\n",
       "      <th>2014-05-10 18:30:00+00:00</th>\n",
       "      <td> 1021</td>\n",
       "      <td> 11.3</td>\n",
       "      <td> 0</td>\n",
       "      <td> 83</td>\n",
       "      <td> 420</td>\n",
       "      <td> 0</td>\n",
       "      <td> 202</td>\n",
       "      <td> 15</td>\n",
       "      <td> 2.0</td>\n",
       "      <td> 4.0</td>\n",
       "    </tr>\n",
       "  </tbody>\n",
       "</table>\n",
       "<p>5 rows × 10 columns</p>\n",
       "</div>"
      ],
      "text/plain": [
       "                           air_pressure  air_temperature  \\\n",
       "time                                                       \n",
       "2014-05-10 19:30:00+00:00          1021             12.1   \n",
       "2014-05-10 19:15:00+00:00          1021             11.6   \n",
       "2014-05-10 19:00:00+00:00          1021             11.4   \n",
       "2014-05-10 18:45:00+00:00          1021             11.4   \n",
       "2014-05-10 18:30:00+00:00          1021             11.3   \n",
       "\n",
       "                           cumulative_precipitation  relative_humidity  \\\n",
       "time                                                                     \n",
       "2014-05-10 19:30:00+00:00                         0                 81   \n",
       "2014-05-10 19:15:00+00:00                         0                 83   \n",
       "2014-05-10 19:00:00+00:00                         0                 83   \n",
       "2014-05-10 18:45:00+00:00                         0                 84   \n",
       "2014-05-10 18:30:00+00:00                         0                 83   \n",
       "\n",
       "                           total_par_LiCor  total_precipitation  \\\n",
       "time                                                              \n",
       "2014-05-10 19:30:00+00:00              651                    0   \n",
       "2014-05-10 19:15:00+00:00              462                    0   \n",
       "2014-05-10 19:00:00+00:00              394                    0   \n",
       "2014-05-10 18:45:00+00:00              451                    0   \n",
       "2014-05-10 18:30:00+00:00              420                    0   \n",
       "\n",
       "                           wind_direction_from_true_north  \\\n",
       "time                                                        \n",
       "2014-05-10 19:30:00+00:00                             212   \n",
       "2014-05-10 19:15:00+00:00                             192   \n",
       "2014-05-10 19:00:00+00:00                             189   \n",
       "2014-05-10 18:45:00+00:00                             193   \n",
       "2014-05-10 18:30:00+00:00                             202   \n",
       "\n",
       "                           wind_direction_standard_deviation  wind_sped  \\\n",
       "time                                                                      \n",
       "2014-05-10 19:30:00+00:00                                 22        1.8   \n",
       "2014-05-10 19:15:00+00:00                                 17        2.0   \n",
       "2014-05-10 19:00:00+00:00                                 12        2.2   \n",
       "2014-05-10 18:45:00+00:00                                 14        2.0   \n",
       "2014-05-10 18:30:00+00:00                                 15        2.0   \n",
       "\n",
       "                           wind_speed_of_gust  \n",
       "time                                           \n",
       "2014-05-10 19:30:00+00:00                 3.1  \n",
       "2014-05-10 19:15:00+00:00                 3.7  \n",
       "2014-05-10 19:00:00+00:00                 4.1  \n",
       "2014-05-10 18:45:00+00:00                 3.8  \n",
       "2014-05-10 18:30:00+00:00                 4.0  \n",
       "\n",
       "[5 rows x 10 columns]"
      ]
     },
     "execution_count": 6,
     "metadata": {},
     "output_type": "execute_result"
    }
   ],
   "source": [
    "# FROM pyoos SOS handling\n",
    "# For first (and only) station\n",
    "flattenedsta_0 = map(flatten_element, sta.elements)\n",
    "sta_0df = pd.DataFrame.from_records(flattenedsta_0, index=['time'])\n",
    "sta_0df.head()"
   ]
  },
  {
   "cell_type": "code",
   "execution_count": 7,
   "metadata": {
    "collapsed": false
   },
   "outputs": [
    {
     "data": {
      "image/png": "[encoded data removed]",
      "text/plain": [
       "<matplotlib.figure.Figure at 0x4bc8a90>"
      ]
     },
     "metadata": {},
     "output_type": "display_data"
    }
   ],
   "source": [
    "# Time series plot.\n",
    "# \"wind_speed\" is currently mispelled; that's in pyoos, and can be fixed easily\n",
    "obsprop_name = 'wind_sped'\n",
    "obsprop = obsprops_bystdname_dict[obsprop_name]\n",
    "sta_0df[obsprop_name].plot()\n",
    "ylabel(obsprop_name + ' ('+obsprop['unit']+')');"
   ]
  },
  {
   "cell_type": "markdown",
   "metadata": {},
   "source": [
    "### Now the same thing, but with lots of exploration in between"
   ]
  },
  {
   "cell_type": "code",
   "execution_count": 8,
   "metadata": {
    "collapsed": false
   },
   "outputs": [],
   "source": [
    "# pyoos NERRS collector\n",
    "nerrsData = NerrsSoap()"
   ]
  },
  {
   "cell_type": "markdown",
   "metadata": {},
   "source": [
    "#### _May 10:_ Not sure if this will work, b/c the access token is passed via the collect method, so it hasn't been passed here yet!"
   ]
  },
  {
   "cell_type": "code",
   "execution_count": 9,
   "metadata": {
    "collapsed": false
   },
   "outputs": [
    {
     "data": {
      "text/plain": [
       "['pdbbpnut',\n",
       " 'pdbbpwq',\n",
       " 'pdbbynut',\n",
       " 'pdbbywq',\n",
       " 'pdbgdnut',\n",
       " 'pdbgsnut',\n",
       " 'pdbgswq',\n",
       " 'pdbjenut',\n",
       " 'pdbjewq',\n",
       " 'pdbjlnut',\n",
       " 'pdbjlwq',\n",
       " 'pdbnnwq',\n",
       " 'pdbpfmet']"
      ]
     },
     "execution_count": 9,
     "metadata": {},
     "output_type": "execute_result"
    }
   ],
   "source": [
    "# Get all Padilla Bay stations (pdb)\n",
    "[featureid for featureid in nerrsData.list_features() if featureid.startswith('pdb')]"
   ]
  },
  {
   "cell_type": "code",
   "execution_count": 10,
   "metadata": {
    "collapsed": false
   },
   "outputs": [],
   "source": [
    "# Access pdbpfmet station, for the last 7 days (roughly)\n",
    "nerrsData.filter(features=['pdbpfmet'],\n",
    "                  start=datetime.utcnow() - timedelta(days=7),\n",
    "                  end=datetime.utcnow()  - timedelta(hours=12))\n",
    "#nerrsData.filter(variables=[\"ATemp\"])\n",
    "response = nerrsData.collect()"
   ]
  },
  {
   "cell_type": "code",
   "execution_count": 11,
   "metadata": {
    "collapsed": false
   },
   "outputs": [
    {
     "data": {
      "text/plain": [
       "(dict, ['pdbpfmet'])"
      ]
     },
     "execution_count": 11,
     "metadata": {},
     "output_type": "execute_result"
    }
   ],
   "source": [
    "# The raw response (a string) is not used outside this cell. The collect method response is what's used\n",
    "# I'm showing the raw response here, just for reference\n",
    "raw = nerrsData.raw()\n",
    "type(raw), raw.keys()"
   ]
  },
  {
   "cell_type": "code",
   "execution_count": 12,
   "metadata": {
    "collapsed": false
   },
   "outputs": [
    {
     "data": {
      "text/plain": [
       "[<paegan.cdm.dsg.features.station.Station at 0x4848a50>]"
      ]
     },
     "execution_count": 12,
     "metadata": {},
     "output_type": "execute_result"
    }
   ],
   "source": [
    "# response.elements is a one-element array with a paegan.cdm.dsg.features.station.Station element\n",
    "response.elements"
   ]
  },
  {
   "cell_type": "code",
   "execution_count": 13,
   "metadata": {
    "collapsed": false
   },
   "outputs": [
    {
     "data": {
      "text/plain": [
       "['_type',\n",
       " '_location',\n",
       " '_description',\n",
       " '_name',\n",
       " '_uid',\n",
       " '_elements',\n",
       " '_properties']"
      ]
     },
     "execution_count": 13,
     "metadata": {},
     "output_type": "execute_result"
    }
   ],
   "source": [
    "# Looks like the station in the response doesn't include any info about the Reserve it belongs to. Too bad.\n",
    "# Or is one of the pieces of information below the NERRS site?\n",
    "sta = response.elements[0]\n",
    "sta.__dict__.keys()"
   ]
  },
  {
   "cell_type": "code",
   "execution_count": 14,
   "metadata": {
    "collapsed": false
   },
   "outputs": [
    {
     "data": {
      "text/plain": [
       "('pdbpfmet',\n",
       " 'Padilla Bay Farm',\n",
       " None,\n",
       " 'timeSeries',\n",
       " <shapely.geometry.point.Point at 0x4848150>,\n",
       " <bound method Station.properties of <paegan.cdm.dsg.features.station.Station object at 0x4848a50>>)"
      ]
     },
     "execution_count": 14,
     "metadata": {},
     "output_type": "execute_result"
    }
   ],
   "source": [
    "sta.uid, sta.name, sta.description, sta.type, sta.location, sta.properties"
   ]
  },
  {
   "cell_type": "code",
   "execution_count": 15,
   "metadata": {
    "collapsed": false
   },
   "outputs": [
    {
     "data": {
      "text/plain": [
       "('pdb',\n",
       " {'horizontal_crs': 'EPSG:4326',\n",
       "  'location_description': 'Padilla Bay',\n",
       "  'siteid': 'pdb',\n",
       "  'state': 'wa',\n",
       "  'vertical_crs': 'EPSG:4297',\n",
       "  'vertical_units': 'm'})"
      ]
     },
     "execution_count": 15,
     "metadata": {},
     "output_type": "execute_result"
    }
   ],
   "source": [
    "# 'siteid' and 'location_description' seem to refer to the NERRS reserve/site\n",
    "sta.get_property('siteid'), sta._properties"
   ]
  },
  {
   "cell_type": "code",
   "execution_count": 16,
   "metadata": {
    "collapsed": false
   },
   "outputs": [
    {
     "name": "stdout",
     "output_type": "stream",
     "text": [
      "POINT Z (122.469303 48.463847 0) || Point || (array('d', [122.469303]), array('d', [48.463847]))\n"
     ]
    }
   ],
   "source": [
    "staloc = sta.get_location()\n",
    "print staloc, '||', staloc.type, '||', staloc.xy"
   ]
  },
  {
   "cell_type": "code",
   "execution_count": 17,
   "metadata": {
    "collapsed": false
   },
   "outputs": [
    {
     "data": {
      "text/plain": [
       "{'description': 'WSpd', 'name': 'WSpd', 'standard': 'wind_sped', 'unit': 'm/s'}"
      ]
     },
     "execution_count": 17,
     "metadata": {},
     "output_type": "execute_result"
    }
   ],
   "source": [
    "obsprops_bystdname_dict = obsprops_bystdname(sta)\n",
    "obsprops_bystdname_dict['wind_sped']"
   ]
  },
  {
   "cell_type": "code",
   "execution_count": 18,
   "metadata": {
    "collapsed": false
   },
   "outputs": [
    {
     "data": {
      "text/plain": [
       "(list, 656)"
      ]
     },
     "execution_count": 18,
     "metadata": {},
     "output_type": "execute_result"
    }
   ],
   "source": [
    "# The individual observations are returned in the station \"elements\"\n",
    "stael = sta.elements\n",
    "type(stael), len(stael)"
   ]
  },
  {
   "cell_type": "code",
   "execution_count": 19,
   "metadata": {
    "collapsed": false
   },
   "outputs": [
    {
     "data": {
      "text/plain": [
       "datetime.datetime(2014, 5, 10, 19, 30, tzinfo=<UTC>)"
      ]
     },
     "execution_count": 19,
     "metadata": {},
     "output_type": "execute_result"
    }
   ],
   "source": [
    "stael0 = stael[0]\n",
    "stael0.time\n",
    "# See sta.get_unique_members(), above\n",
    "# stael0.get_member_names() returns a list of member names for this station 'element'"
   ]
  },
  {
   "cell_type": "code",
   "execution_count": 20,
   "metadata": {
    "collapsed": false
   },
   "outputs": [
    {
     "data": {
      "text/plain": [
       "[{'description': 'ATemp',\n",
       "  'name': 'ATemp',\n",
       "  'standard': 'air_temperature',\n",
       "  'unit': '\\xc2\\xb0C',\n",
       "  'value': 12.1},\n",
       " {'description': 'BP',\n",
       "  'name': 'BP',\n",
       "  'standard': 'air_pressure',\n",
       "  'unit': 'mb',\n",
       "  'value': 1021.0},\n",
       " {'description': 'CumPrcp',\n",
       "  'name': 'CumPrcp',\n",
       "  'standard': 'cumulative_precipitation',\n",
       "  'unit': 'mm',\n",
       "  'value': 0.0},\n",
       " {'description': 'MaxWSpd',\n",
       "  'name': 'MaxWSpd',\n",
       "  'standard': 'wind_speed_of_gust',\n",
       "  'unit': 'm/s',\n",
       "  'value': 3.1},\n",
       " {'description': 'RH',\n",
       "  'name': 'RH',\n",
       "  'standard': 'relative_humidity',\n",
       "  'unit': '%',\n",
       "  'value': 81.0},\n",
       " {'description': 'SDWDir',\n",
       "  'name': 'SDWDir',\n",
       "  'standard': 'wind_direction_standard_deviation',\n",
       "  'unit': 'sd',\n",
       "  'value': 22.0},\n",
       " {'description': 'TotPAR',\n",
       "  'name': 'TotPAR',\n",
       "  'standard': 'total_par_LiCor',\n",
       "  'unit': 'mmoles/m^2',\n",
       "  'value': 651.0},\n",
       " {'description': 'TotPrcp',\n",
       "  'name': 'TotPrcp',\n",
       "  'standard': 'total_precipitation',\n",
       "  'unit': 'mm',\n",
       "  'value': 0.0},\n",
       " {'description': 'Wdir',\n",
       "  'name': 'Wdir',\n",
       "  'standard': 'wind_direction_from_true_north',\n",
       "  'unit': '\\xc2\\xb0TN',\n",
       "  'value': 212.0},\n",
       " {'description': 'WSpd',\n",
       "  'name': 'WSpd',\n",
       "  'standard': 'wind_sped',\n",
       "  'unit': 'm/s',\n",
       "  'value': 1.8}]"
      ]
     },
     "execution_count": 20,
     "metadata": {},
     "output_type": "execute_result"
    }
   ],
   "source": [
    "stael0.members"
   ]
  },
  {
   "cell_type": "code",
   "execution_count": 21,
   "metadata": {
    "collapsed": false
   },
   "outputs": [
    {
     "data": {
      "text/plain": [
       "<bound method StationCollection.flatten of <paegan.cdm.dsg.collections.station_collection.StationCollection object at 0x4848f90>>"
      ]
     },
     "execution_count": 21,
     "metadata": {},
     "output_type": "execute_result"
    }
   ],
   "source": [
    "# From paegan: flatten Returns a Generator of Points that are part of this collection\n",
    "# Just exploring what this does...\n",
    "response.flatten"
   ]
  },
  {
   "cell_type": "code",
   "execution_count": 22,
   "metadata": {
    "collapsed": false
   },
   "outputs": [
    {
     "data": {
      "text/html": [
       "<div style=\"max-height:1000px;max-width:1500px;overflow:auto;\">\n",
       "<table border=\"1\" class=\"dataframe\">\n",
       "  <thead>\n",
       "    <tr style=\"text-align: right;\">\n",
       "      <th></th>\n",
       "      <th>air_pressure</th>\n",
       "      <th>air_temperature</th>\n",
       "      <th>cumulative_precipitation</th>\n",
       "      <th>relative_humidity</th>\n",
       "      <th>total_par_LiCor</th>\n",
       "      <th>total_precipitation</th>\n",
       "      <th>wind_direction_from_true_north</th>\n",
       "      <th>wind_direction_standard_deviation</th>\n",
       "      <th>wind_sped</th>\n",
       "      <th>wind_speed_of_gust</th>\n",
       "    </tr>\n",
       "    <tr>\n",
       "      <th>time</th>\n",
       "      <th></th>\n",
       "      <th></th>\n",
       "      <th></th>\n",
       "      <th></th>\n",
       "      <th></th>\n",
       "      <th></th>\n",
       "      <th></th>\n",
       "      <th></th>\n",
       "      <th></th>\n",
       "      <th></th>\n",
       "    </tr>\n",
       "  </thead>\n",
       "  <tbody>\n",
       "    <tr>\n",
       "      <th>2014-05-10 19:30:00+00:00</th>\n",
       "      <td> 1021</td>\n",
       "      <td> 12.1</td>\n",
       "      <td> 0</td>\n",
       "      <td> 81</td>\n",
       "      <td> 651</td>\n",
       "      <td> 0</td>\n",
       "      <td> 212</td>\n",
       "      <td> 22</td>\n",
       "      <td> 1.8</td>\n",
       "      <td> 3.1</td>\n",
       "    </tr>\n",
       "    <tr>\n",
       "      <th>2014-05-10 19:15:00+00:00</th>\n",
       "      <td> 1021</td>\n",
       "      <td> 11.6</td>\n",
       "      <td> 0</td>\n",
       "      <td> 83</td>\n",
       "      <td> 462</td>\n",
       "      <td> 0</td>\n",
       "      <td> 192</td>\n",
       "      <td> 17</td>\n",
       "      <td> 2.0</td>\n",
       "      <td> 3.7</td>\n",
       "    </tr>\n",
       "    <tr>\n",
       "      <th>2014-05-10 19:00:00+00:00</th>\n",
       "      <td> 1021</td>\n",
       "      <td> 11.4</td>\n",
       "      <td> 0</td>\n",
       "      <td> 83</td>\n",
       "      <td> 394</td>\n",
       "      <td> 0</td>\n",
       "      <td> 189</td>\n",
       "      <td> 12</td>\n",
       "      <td> 2.2</td>\n",
       "      <td> 4.1</td>\n",
       "    </tr>\n",
       "    <tr>\n",
       "      <th>2014-05-10 18:45:00+00:00</th>\n",
       "      <td> 1021</td>\n",
       "      <td> 11.4</td>\n",
       "      <td> 0</td>\n",
       "      <td> 84</td>\n",
       "      <td> 451</td>\n",
       "      <td> 0</td>\n",
       "      <td> 193</td>\n",
       "      <td> 14</td>\n",
       "      <td> 2.0</td>\n",
       "      <td> 3.8</td>\n",
       "    </tr>\n",
       "    <tr>\n",
       "      <th>2014-05-10 18:30:00+00:00</th>\n",
       "      <td> 1021</td>\n",
       "      <td> 11.3</td>\n",
       "      <td> 0</td>\n",
       "      <td> 83</td>\n",
       "      <td> 420</td>\n",
       "      <td> 0</td>\n",
       "      <td> 202</td>\n",
       "      <td> 15</td>\n",
       "      <td> 2.0</td>\n",
       "      <td> 4.0</td>\n",
       "    </tr>\n",
       "  </tbody>\n",
       "</table>\n",
       "<p>5 rows × 10 columns</p>\n",
       "</div>"
      ],
      "text/plain": [
       "                           air_pressure  air_temperature  \\\n",
       "time                                                       \n",
       "2014-05-10 19:30:00+00:00          1021             12.1   \n",
       "2014-05-10 19:15:00+00:00          1021             11.6   \n",
       "2014-05-10 19:00:00+00:00          1021             11.4   \n",
       "2014-05-10 18:45:00+00:00          1021             11.4   \n",
       "2014-05-10 18:30:00+00:00          1021             11.3   \n",
       "\n",
       "                           cumulative_precipitation  relative_humidity  \\\n",
       "time                                                                     \n",
       "2014-05-10 19:30:00+00:00                         0                 81   \n",
       "2014-05-10 19:15:00+00:00                         0                 83   \n",
       "2014-05-10 19:00:00+00:00                         0                 83   \n",
       "2014-05-10 18:45:00+00:00                         0                 84   \n",
       "2014-05-10 18:30:00+00:00                         0                 83   \n",
       "\n",
       "                           total_par_LiCor  total_precipitation  \\\n",
       "time                                                              \n",
       "2014-05-10 19:30:00+00:00              651                    0   \n",
       "2014-05-10 19:15:00+00:00              462                    0   \n",
       "2014-05-10 19:00:00+00:00              394                    0   \n",
       "2014-05-10 18:45:00+00:00              451                    0   \n",
       "2014-05-10 18:30:00+00:00              420                    0   \n",
       "\n",
       "                           wind_direction_from_true_north  \\\n",
       "time                                                        \n",
       "2014-05-10 19:30:00+00:00                             212   \n",
       "2014-05-10 19:15:00+00:00                             192   \n",
       "2014-05-10 19:00:00+00:00                             189   \n",
       "2014-05-10 18:45:00+00:00                             193   \n",
       "2014-05-10 18:30:00+00:00                             202   \n",
       "\n",
       "                           wind_direction_standard_deviation  wind_sped  \\\n",
       "time                                                                      \n",
       "2014-05-10 19:30:00+00:00                                 22        1.8   \n",
       "2014-05-10 19:15:00+00:00                                 17        2.0   \n",
       "2014-05-10 19:00:00+00:00                                 12        2.2   \n",
       "2014-05-10 18:45:00+00:00                                 14        2.0   \n",
       "2014-05-10 18:30:00+00:00                                 15        2.0   \n",
       "\n",
       "                           wind_speed_of_gust  \n",
       "time                                           \n",
       "2014-05-10 19:30:00+00:00                 3.1  \n",
       "2014-05-10 19:15:00+00:00                 3.7  \n",
       "2014-05-10 19:00:00+00:00                 4.1  \n",
       "2014-05-10 18:45:00+00:00                 3.8  \n",
       "2014-05-10 18:30:00+00:00                 4.0  \n",
       "\n",
       "[5 rows x 10 columns]"
      ]
     },
     "execution_count": 22,
     "metadata": {},
     "output_type": "execute_result"
    }
   ],
   "source": [
    "# FROM pyoos SOS handling\n",
    "# For first (and only) station\n",
    "flattenedsta_0 = map(flatten_element, sta.elements)\n",
    "sta_0df = pd.DataFrame.from_records(flattenedsta_0, index=['time'])\n",
    "sta_0df.head()"
   ]
  },
  {
   "cell_type": "code",
   "execution_count": 23,
   "metadata": {
    "collapsed": false
   },
   "outputs": [
    {
     "data": {
      "image/png": "[encoded data removed]",
      "text/plain": [
       "<matplotlib.figure.Figure at 0x455ef10>"
      ]
     },
     "metadata": {},
     "output_type": "display_data"
    }
   ],
   "source": [
    "# Time series plot.\n",
    "# \"wind_speed\" is currently mispelled; that's in pyoos, and can be fixed easily\n",
    "obsprop_name = 'wind_sped'\n",
    "obsprop = obsprops_bystdname_dict[obsprop_name]\n",
    "sta_0df[obsprop_name].plot()\n",
    "ylabel(obsprop_name + ' ('+obsprop['unit']+')');"
   ]
  },
  {
   "cell_type": "markdown",
   "metadata": {},
   "source": [
    "### The block below is Dan's code, with some tweaks I had made. I'm no longer using it directly"
   ]
  },
  {
   "cell_type": "markdown",
   "metadata": {},
   "source": [
    "**Change this to return arrays and/or pandas data frames that pull out individual time series per variable**  \n",
    "**SEE THE CELL ABOVE THIS ONE!**  \n",
    "\n",
    "for obsRec in response:\n",
    "  for stationRec in response.get_elements():\n",
    "      #stationRec = obsRec.feature\n",
    "      print \"**** Station: %s Location: %s\" % (stationRec.name, stationRec.get_location())\n",
    "      #The elements are a list of the observed_properties returned wrapped in a Point object.\n",
    "      for obsProp in stationRec.get_elements():\n",
    "        print \"  -------------------\"\n",
    "        print \"  - Observation Date/Time: %s\" % (obsProp.get_time())\n",
    "        #print \"Member names: %s\" % (obsProp.get_member_names())\n",
    "        #I think that for a multi sensor request, there should be multiple members, each representing\n",
    "        #a specific observed_property.\n",
    "        for member in obsProp.get_members():\n",
    "            #Apparently you're going to have to know how each collector parses the pieces of the data.\n",
    "            #For an SOS query, there appear to be: name, units, value, and standard(CF MMI link).\n",
    "            #print \"    ------\\n    member.keys() = %s\" % member.keys()\n",
    "            # member.keys() = ['value', 'description', 'name', 'unit', 'standard']\n",
    "            m = member\n",
    "            member_values_tup = (m['name'], m['description'], m['standard'], m['value'], m['unit'])\n",
    "            print \"name: %s (description=%s, standard=%s); value=%s, unit=%s\" % member_values_tup\n",
    "            #for key,value in member.iteritems():\n",
    "            #    print \"    %s = %s\" % (key, value)"
   ]
  }
 ],
 "metadata": {
  "kernelspec": {
   "display_name": "Python 2",
   "language": "python",
   "name": "python2"
  },
  "language_info": {
   "codemirror_mode": {
    "name": "ipython",
    "version": 2
   },
   "file_extension": ".py",
   "mimetype": "text/x-python",
   "name": "python",
   "nbconvert_exporter": "python",
   "pygments_lexer": "ipython2",
   "version": "2.7.10"
  }
 },
 "nbformat": 4,
 "nbformat_minor": 0
}
